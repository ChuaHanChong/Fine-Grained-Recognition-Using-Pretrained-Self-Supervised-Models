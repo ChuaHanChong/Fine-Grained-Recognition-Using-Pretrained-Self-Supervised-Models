{
 "cells": [
  {
   "cell_type": "code",
   "execution_count": 1,
   "metadata": {},
   "outputs": [],
   "source": [
    "import json\n",
    "import scipy.io\n",
    "import pandas as pd\n",
    "from pathlib import Path"
   ]
  },
  {
   "cell_type": "markdown",
   "metadata": {},
   "source": [
    "# Oxford Flowers"
   ]
  },
  {
   "cell_type": "code",
   "execution_count": 39,
   "metadata": {},
   "outputs": [
    {
     "name": "stdout",
     "output_type": "stream",
     "text": [
      "8189\n"
     ]
    },
    {
     "data": {
      "text/html": [
       "<div>\n",
       "<style scoped>\n",
       "    .dataframe tbody tr th:only-of-type {\n",
       "        vertical-align: middle;\n",
       "    }\n",
       "\n",
       "    .dataframe tbody tr th {\n",
       "        vertical-align: top;\n",
       "    }\n",
       "\n",
       "    .dataframe thead th {\n",
       "        text-align: right;\n",
       "    }\n",
       "</style>\n",
       "<table border=\"1\" class=\"dataframe\">\n",
       "  <thead>\n",
       "    <tr style=\"text-align: right;\">\n",
       "      <th></th>\n",
       "      <th>image_path</th>\n",
       "      <th>image_name</th>\n",
       "      <th>label</th>\n",
       "      <th>label_name</th>\n",
       "      <th>split</th>\n",
       "    </tr>\n",
       "  </thead>\n",
       "  <tbody>\n",
       "    <tr>\n",
       "      <th>0</th>\n",
       "      <td>/data/hanchong/open-source-data/Oxford_Flowers...</td>\n",
       "      <td>image_00001.jpg</td>\n",
       "      <td>77</td>\n",
       "      <td>passion flower</td>\n",
       "      <td>test</td>\n",
       "    </tr>\n",
       "    <tr>\n",
       "      <th>1</th>\n",
       "      <td>/data/hanchong/open-source-data/Oxford_Flowers...</td>\n",
       "      <td>image_00002.jpg</td>\n",
       "      <td>77</td>\n",
       "      <td>passion flower</td>\n",
       "      <td>test</td>\n",
       "    </tr>\n",
       "    <tr>\n",
       "      <th>2</th>\n",
       "      <td>/data/hanchong/open-source-data/Oxford_Flowers...</td>\n",
       "      <td>image_00003.jpg</td>\n",
       "      <td>77</td>\n",
       "      <td>passion flower</td>\n",
       "      <td>test</td>\n",
       "    </tr>\n",
       "    <tr>\n",
       "      <th>3</th>\n",
       "      <td>/data/hanchong/open-source-data/Oxford_Flowers...</td>\n",
       "      <td>image_00004.jpg</td>\n",
       "      <td>77</td>\n",
       "      <td>passion flower</td>\n",
       "      <td>test</td>\n",
       "    </tr>\n",
       "    <tr>\n",
       "      <th>4</th>\n",
       "      <td>/data/hanchong/open-source-data/Oxford_Flowers...</td>\n",
       "      <td>image_00005.jpg</td>\n",
       "      <td>77</td>\n",
       "      <td>passion flower</td>\n",
       "      <td>test</td>\n",
       "    </tr>\n",
       "  </tbody>\n",
       "</table>\n",
       "</div>"
      ],
      "text/plain": [
       "                                          image_path       image_name  label  \\\n",
       "0  /data/hanchong/open-source-data/Oxford_Flowers...  image_00001.jpg     77   \n",
       "1  /data/hanchong/open-source-data/Oxford_Flowers...  image_00002.jpg     77   \n",
       "2  /data/hanchong/open-source-data/Oxford_Flowers...  image_00003.jpg     77   \n",
       "3  /data/hanchong/open-source-data/Oxford_Flowers...  image_00004.jpg     77   \n",
       "4  /data/hanchong/open-source-data/Oxford_Flowers...  image_00005.jpg     77   \n",
       "\n",
       "       label_name split  \n",
       "0  passion flower  test  \n",
       "1  passion flower  test  \n",
       "2  passion flower  test  \n",
       "3  passion flower  test  \n",
       "4  passion flower  test  "
      ]
     },
     "execution_count": 39,
     "metadata": {},
     "output_type": "execute_result"
    }
   ],
   "source": [
    "paths = Path(\"/data/hanchong/open-source-data/Oxford_Flowers/raw-data/jpg\").rglob(\"*.jpg\")\n",
    "paths = sorted(paths)\n",
    "\n",
    "imagelabels = scipy.io.loadmat(\"/data/hanchong/open-source-data/Oxford_Flowers/raw-data/imagelabels.mat\")\n",
    "setid = scipy.io.loadmat(\"/data/hanchong/open-source-data/Oxford_Flowers/raw-data/setid.mat\")\n",
    "\n",
    "label_name_df = pd.read_csv(\"/data/hanchong/open-source-data/Oxford_Flowers/raw-data/oxford_flower_102_name.csv\")\n",
    "label_name_mapping = {int(row[\"Index\"]) + 1: row[\"Name\"] for _, row in label_name_df.iterrows()}\n",
    "\n",
    "split_mapping = {}\n",
    "for i in setid[\"trnid\"].flatten().tolist():\n",
    "    split_mapping[i] = \"train\"\n",
    "for i in setid[\"valid\"].flatten().tolist():\n",
    "    split_mapping[i] = \"valid\"\n",
    "for i in setid[\"tstid\"].flatten().tolist():\n",
    "    split_mapping[i] = \"test\"\n",
    "\n",
    "df = pd.DataFrame(\n",
    "    {\n",
    "        \"image_path\": paths,\n",
    "        \"image_name\": [path.name for path in paths],\n",
    "    }\n",
    ")\n",
    "df[\"label\"] = imagelabels[\"labels\"].flatten()\n",
    "df[\"label_name\"] = df[\"label\"].apply(lambda x: label_name_mapping[x])\n",
    "df[\"split\"] = df[\"image_name\"].apply(lambda x: split_mapping[int(x.split(\"_\")[-1].split(\".\")[0])])\n",
    "\n",
    "print(len(df))\n",
    "df.head()"
   ]
  },
  {
   "cell_type": "code",
   "execution_count": 40,
   "metadata": {},
   "outputs": [
    {
     "data": {
      "text/plain": [
       "102"
      ]
     },
     "execution_count": 40,
     "metadata": {},
     "output_type": "execute_result"
    }
   ],
   "source": [
    "df[\"label\"].nunique()"
   ]
  },
  {
   "cell_type": "code",
   "execution_count": 41,
   "metadata": {},
   "outputs": [
    {
     "data": {
      "text/plain": [
       "label\n",
       "51    258\n",
       "77    251\n",
       "46    196\n",
       "73    194\n",
       "89    184\n",
       "     ... \n",
       "27     40\n",
       "3      40\n",
       "1      40\n",
       "7      40\n",
       "45     40\n",
       "Name: count, Length: 102, dtype: int64"
      ]
     },
     "execution_count": 41,
     "metadata": {},
     "output_type": "execute_result"
    }
   ],
   "source": [
    "df[\"label\"].value_counts()"
   ]
  },
  {
   "cell_type": "code",
   "execution_count": 42,
   "metadata": {},
   "outputs": [
    {
     "name": "stdout",
     "output_type": "stream",
     "text": [
      "1020\n",
      "1020\n",
      "6149\n"
     ]
    }
   ],
   "source": [
    "print(len(setid[\"trnid\"].flatten()))\n",
    "print(len(setid[\"valid\"].flatten()))\n",
    "print(len(setid[\"tstid\"].flatten()))"
   ]
  },
  {
   "cell_type": "code",
   "execution_count": 43,
   "metadata": {},
   "outputs": [
    {
     "data": {
      "text/plain": [
       "split\n",
       "test     6149\n",
       "valid    1020\n",
       "train    1020\n",
       "Name: count, dtype: int64"
      ]
     },
     "execution_count": 43,
     "metadata": {},
     "output_type": "execute_result"
    }
   ],
   "source": [
    "df[\"split\"].value_counts()"
   ]
  },
  {
   "cell_type": "markdown",
   "metadata": {},
   "source": [
    "# CUB200-2011"
   ]
  },
  {
   "cell_type": "code",
   "execution_count": 3,
   "metadata": {},
   "outputs": [
    {
     "name": "stdout",
     "output_type": "stream",
     "text": [
      "11788\n"
     ]
    },
    {
     "data": {
      "text/html": [
       "<div>\n",
       "<style scoped>\n",
       "    .dataframe tbody tr th:only-of-type {\n",
       "        vertical-align: middle;\n",
       "    }\n",
       "\n",
       "    .dataframe tbody tr th {\n",
       "        vertical-align: top;\n",
       "    }\n",
       "\n",
       "    .dataframe thead th {\n",
       "        text-align: right;\n",
       "    }\n",
       "</style>\n",
       "<table border=\"1\" class=\"dataframe\">\n",
       "  <thead>\n",
       "    <tr style=\"text-align: right;\">\n",
       "      <th></th>\n",
       "      <th>image_path</th>\n",
       "      <th>image_name</th>\n",
       "      <th>label</th>\n",
       "      <th>label_name</th>\n",
       "      <th>split</th>\n",
       "    </tr>\n",
       "  </thead>\n",
       "  <tbody>\n",
       "    <tr>\n",
       "      <th>0</th>\n",
       "      <td>/data/hanchong/open-source-data/CUB200-2011/ra...</td>\n",
       "      <td>Black_Footed_Albatross_0001_796111.jpg</td>\n",
       "      <td>1</td>\n",
       "      <td>Black_footed_Albatross</td>\n",
       "      <td>test</td>\n",
       "    </tr>\n",
       "    <tr>\n",
       "      <th>1</th>\n",
       "      <td>/data/hanchong/open-source-data/CUB200-2011/ra...</td>\n",
       "      <td>Black_Footed_Albatross_0002_55.jpg</td>\n",
       "      <td>1</td>\n",
       "      <td>Black_footed_Albatross</td>\n",
       "      <td>test</td>\n",
       "    </tr>\n",
       "    <tr>\n",
       "      <th>2</th>\n",
       "      <td>/data/hanchong/open-source-data/CUB200-2011/ra...</td>\n",
       "      <td>Black_Footed_Albatross_0003_796136.jpg</td>\n",
       "      <td>1</td>\n",
       "      <td>Black_footed_Albatross</td>\n",
       "      <td>test</td>\n",
       "    </tr>\n",
       "    <tr>\n",
       "      <th>3</th>\n",
       "      <td>/data/hanchong/open-source-data/CUB200-2011/ra...</td>\n",
       "      <td>Black_Footed_Albatross_0005_796090.jpg</td>\n",
       "      <td>1</td>\n",
       "      <td>Black_footed_Albatross</td>\n",
       "      <td>test</td>\n",
       "    </tr>\n",
       "    <tr>\n",
       "      <th>4</th>\n",
       "      <td>/data/hanchong/open-source-data/CUB200-2011/ra...</td>\n",
       "      <td>Black_Footed_Albatross_0006_796065.jpg</td>\n",
       "      <td>1</td>\n",
       "      <td>Black_footed_Albatross</td>\n",
       "      <td>test</td>\n",
       "    </tr>\n",
       "  </tbody>\n",
       "</table>\n",
       "</div>"
      ],
      "text/plain": [
       "                                          image_path  \\\n",
       "0  /data/hanchong/open-source-data/CUB200-2011/ra...   \n",
       "1  /data/hanchong/open-source-data/CUB200-2011/ra...   \n",
       "2  /data/hanchong/open-source-data/CUB200-2011/ra...   \n",
       "3  /data/hanchong/open-source-data/CUB200-2011/ra...   \n",
       "4  /data/hanchong/open-source-data/CUB200-2011/ra...   \n",
       "\n",
       "                               image_name  label              label_name split  \n",
       "0  Black_Footed_Albatross_0001_796111.jpg      1  Black_footed_Albatross  test  \n",
       "1      Black_Footed_Albatross_0002_55.jpg      1  Black_footed_Albatross  test  \n",
       "2  Black_Footed_Albatross_0003_796136.jpg      1  Black_footed_Albatross  test  \n",
       "3  Black_Footed_Albatross_0005_796090.jpg      1  Black_footed_Albatross  test  \n",
       "4  Black_Footed_Albatross_0006_796065.jpg      1  Black_footed_Albatross  test  "
      ]
     },
     "execution_count": 3,
     "metadata": {},
     "output_type": "execute_result"
    }
   ],
   "source": [
    "paths = Path(\"/data/hanchong/open-source-data/CUB200-2011/raw-data/images\").rglob(\"*.jpg\")\n",
    "paths = sorted(paths)\n",
    "\n",
    "index_split_df = pd.read_csv(\"/data/hanchong/open-source-data/CUB200-2011/raw-data/train_test_split.txt\", sep=\" \", header=None)\n",
    "index_split_df.columns = [\"Index\", \"Split\"]\n",
    "\n",
    "index_image_df = pd.read_csv(\"/data/hanchong/open-source-data/CUB200-2011/raw-data/images.txt\", sep=\" \", header=None)\n",
    "index_image_df.columns = [\"Index\", \"Image\"]\n",
    "\n",
    "split_df = pd.merge(index_split_df, index_image_df, on=\"Index\")\n",
    "split_mapping = {row[\"Image\"].split(\"/\")[-1]: {0: \"test\", 1: \"train\"}[row[\"Split\"]] for _, row in split_df.iterrows()}\n",
    "\n",
    "df = pd.DataFrame(\n",
    "    {\n",
    "        \"image_path\": paths,\n",
    "        \"image_name\": [path.name for path in paths],\n",
    "        \"label\": [int(path.parent.name.split(\".\")[0]) for path in paths],\n",
    "        \"label_name\": [path.parent.name.split(\".\")[-1] for path in paths],\n",
    "    }\n",
    ")\n",
    "df[\"split\"] = df[\"image_name\"].apply(lambda x: split_mapping[x])\n",
    "\n",
    "print(len(df))\n",
    "df.head()"
   ]
  },
  {
   "cell_type": "code",
   "execution_count": 4,
   "metadata": {},
   "outputs": [
    {
     "data": {
      "text/plain": [
       "200"
      ]
     },
     "execution_count": 4,
     "metadata": {},
     "output_type": "execute_result"
    }
   ],
   "source": [
    "df[\"label\"].nunique()"
   ]
  },
  {
   "cell_type": "code",
   "execution_count": 5,
   "metadata": {},
   "outputs": [
    {
     "data": {
      "text/plain": [
       "label\n",
       "1      60\n",
       "2      60\n",
       "4      60\n",
       "21     60\n",
       "13     60\n",
       "       ..\n",
       "105    49\n",
       "8      48\n",
       "18     45\n",
       "5      44\n",
       "6      41\n",
       "Name: count, Length: 200, dtype: int64"
      ]
     },
     "execution_count": 5,
     "metadata": {},
     "output_type": "execute_result"
    }
   ],
   "source": [
    "df[\"label\"].value_counts()"
   ]
  },
  {
   "cell_type": "code",
   "execution_count": 6,
   "metadata": {},
   "outputs": [
    {
     "data": {
      "text/plain": [
       "Split\n",
       "1    5994\n",
       "0    5794\n",
       "Name: count, dtype: int64"
      ]
     },
     "execution_count": 6,
     "metadata": {},
     "output_type": "execute_result"
    }
   ],
   "source": [
    "split_df[\"Split\"].value_counts()"
   ]
  },
  {
   "cell_type": "code",
   "execution_count": 7,
   "metadata": {},
   "outputs": [
    {
     "data": {
      "text/plain": [
       "split\n",
       "train    5994\n",
       "test     5794\n",
       "Name: count, dtype: int64"
      ]
     },
     "execution_count": 7,
     "metadata": {},
     "output_type": "execute_result"
    }
   ],
   "source": [
    "df[\"split\"].value_counts()"
   ]
  },
  {
   "cell_type": "markdown",
   "metadata": {},
   "source": [
    "# Stanford Dogs"
   ]
  },
  {
   "cell_type": "code",
   "execution_count": 8,
   "metadata": {},
   "outputs": [
    {
     "name": "stdout",
     "output_type": "stream",
     "text": [
      "20580\n"
     ]
    },
    {
     "data": {
      "text/html": [
       "<div>\n",
       "<style scoped>\n",
       "    .dataframe tbody tr th:only-of-type {\n",
       "        vertical-align: middle;\n",
       "    }\n",
       "\n",
       "    .dataframe tbody tr th {\n",
       "        vertical-align: top;\n",
       "    }\n",
       "\n",
       "    .dataframe thead th {\n",
       "        text-align: right;\n",
       "    }\n",
       "</style>\n",
       "<table border=\"1\" class=\"dataframe\">\n",
       "  <thead>\n",
       "    <tr style=\"text-align: right;\">\n",
       "      <th></th>\n",
       "      <th>image_path</th>\n",
       "      <th>image_name</th>\n",
       "      <th>label</th>\n",
       "      <th>label_name</th>\n",
       "      <th>split</th>\n",
       "    </tr>\n",
       "  </thead>\n",
       "  <tbody>\n",
       "    <tr>\n",
       "      <th>0</th>\n",
       "      <td>/data/hanchong/open-source-data/Stanford_Dogs/...</td>\n",
       "      <td>n02085620_10074.jpg</td>\n",
       "      <td>1</td>\n",
       "      <td>n02085620-Chihuahua</td>\n",
       "      <td>test</td>\n",
       "    </tr>\n",
       "    <tr>\n",
       "      <th>1</th>\n",
       "      <td>/data/hanchong/open-source-data/Stanford_Dogs/...</td>\n",
       "      <td>n02085620_10131.jpg</td>\n",
       "      <td>1</td>\n",
       "      <td>n02085620-Chihuahua</td>\n",
       "      <td>test</td>\n",
       "    </tr>\n",
       "    <tr>\n",
       "      <th>2</th>\n",
       "      <td>/data/hanchong/open-source-data/Stanford_Dogs/...</td>\n",
       "      <td>n02085620_10621.jpg</td>\n",
       "      <td>1</td>\n",
       "      <td>n02085620-Chihuahua</td>\n",
       "      <td>train</td>\n",
       "    </tr>\n",
       "    <tr>\n",
       "      <th>3</th>\n",
       "      <td>/data/hanchong/open-source-data/Stanford_Dogs/...</td>\n",
       "      <td>n02085620_1073.jpg</td>\n",
       "      <td>1</td>\n",
       "      <td>n02085620-Chihuahua</td>\n",
       "      <td>test</td>\n",
       "    </tr>\n",
       "    <tr>\n",
       "      <th>4</th>\n",
       "      <td>/data/hanchong/open-source-data/Stanford_Dogs/...</td>\n",
       "      <td>n02085620_10976.jpg</td>\n",
       "      <td>1</td>\n",
       "      <td>n02085620-Chihuahua</td>\n",
       "      <td>train</td>\n",
       "    </tr>\n",
       "  </tbody>\n",
       "</table>\n",
       "</div>"
      ],
      "text/plain": [
       "                                          image_path           image_name  \\\n",
       "0  /data/hanchong/open-source-data/Stanford_Dogs/...  n02085620_10074.jpg   \n",
       "1  /data/hanchong/open-source-data/Stanford_Dogs/...  n02085620_10131.jpg   \n",
       "2  /data/hanchong/open-source-data/Stanford_Dogs/...  n02085620_10621.jpg   \n",
       "3  /data/hanchong/open-source-data/Stanford_Dogs/...   n02085620_1073.jpg   \n",
       "4  /data/hanchong/open-source-data/Stanford_Dogs/...  n02085620_10976.jpg   \n",
       "\n",
       "   label           label_name  split  \n",
       "0      1  n02085620-Chihuahua   test  \n",
       "1      1  n02085620-Chihuahua   test  \n",
       "2      1  n02085620-Chihuahua  train  \n",
       "3      1  n02085620-Chihuahua   test  \n",
       "4      1  n02085620-Chihuahua  train  "
      ]
     },
     "execution_count": 8,
     "metadata": {},
     "output_type": "execute_result"
    }
   ],
   "source": [
    "folder = Path(\"/data/hanchong/open-source-data/Stanford_Dogs/raw-data/Images\")\n",
    "paths = folder.rglob(\"*.jpg\")\n",
    "paths = sorted(paths)\n",
    "\n",
    "train_list = scipy.io.loadmat(\"/data/hanchong/open-source-data/Stanford_Dogs/raw-data/train_list.mat\")\n",
    "test_list = scipy.io.loadmat(\"/data/hanchong/open-source-data/Stanford_Dogs/raw-data/test_list.mat\")\n",
    "\n",
    "df = pd.DataFrame(\n",
    "    {\n",
    "        \"image_path\": paths,\n",
    "        \"image_name\": [path.name for path in paths],\n",
    "    }\n",
    ")\n",
    "\n",
    "split_df = pd.concat(\n",
    "    [\n",
    "        pd.DataFrame(\n",
    "            {\n",
    "                \"image_path\": [folder / f[0] for f in train_list[\"file_list\"].flatten().tolist()],\n",
    "                \"label\": train_list[\"labels\"].flatten().tolist(),\n",
    "                \"label_name\": [f[0].split(\"/\")[0] for f in train_list[\"file_list\"].flatten().tolist()],\n",
    "                \"split\": \"train\",\n",
    "            }\n",
    "        ),\n",
    "        pd.DataFrame(\n",
    "            {\n",
    "                \"image_path\": [folder / f[0] for f in test_list[\"file_list\"].flatten().tolist()],\n",
    "                \"label\": test_list[\"labels\"].flatten().tolist(),\n",
    "                \"label_name\": [f[0].split(\"/\")[0] for f in test_list[\"file_list\"].flatten().tolist()],\n",
    "                \"split\": \"test\",\n",
    "            }\n",
    "        ),\n",
    "    ],\n",
    "    ignore_index=True,\n",
    ")\n",
    "\n",
    "df = pd.merge(df, split_df, on=\"image_path\")\n",
    "\n",
    "print(len(df))\n",
    "df.head()"
   ]
  },
  {
   "cell_type": "code",
   "execution_count": 9,
   "metadata": {},
   "outputs": [
    {
     "data": {
      "text/plain": [
       "120"
      ]
     },
     "execution_count": 9,
     "metadata": {},
     "output_type": "execute_result"
    }
   ],
   "source": [
    "df[\"label\"].nunique()"
   ]
  },
  {
   "cell_type": "code",
   "execution_count": 10,
   "metadata": {},
   "outputs": [
    {
     "data": {
      "text/plain": [
       "label\n",
       "3      252\n",
       "10     239\n",
       "27     232\n",
       "108    219\n",
       "89     218\n",
       "      ... \n",
       "74     150\n",
       "101    150\n",
       "119    150\n",
       "4      149\n",
       "18     148\n",
       "Name: count, Length: 120, dtype: int64"
      ]
     },
     "execution_count": 10,
     "metadata": {},
     "output_type": "execute_result"
    }
   ],
   "source": [
    "df[\"label\"].value_counts()"
   ]
  },
  {
   "cell_type": "code",
   "execution_count": 11,
   "metadata": {},
   "outputs": [
    {
     "data": {
      "text/plain": [
       "split\n",
       "train    12000\n",
       "test      8580\n",
       "Name: count, dtype: int64"
      ]
     },
     "execution_count": 11,
     "metadata": {},
     "output_type": "execute_result"
    }
   ],
   "source": [
    "split_df[\"split\"].value_counts()"
   ]
  },
  {
   "cell_type": "code",
   "execution_count": 12,
   "metadata": {},
   "outputs": [
    {
     "data": {
      "text/plain": [
       "split\n",
       "train    12000\n",
       "test      8580\n",
       "Name: count, dtype: int64"
      ]
     },
     "execution_count": 12,
     "metadata": {},
     "output_type": "execute_result"
    }
   ],
   "source": [
    "df[\"split\"].value_counts()"
   ]
  },
  {
   "cell_type": "markdown",
   "metadata": {},
   "source": [
    "# Standford Cars"
   ]
  },
  {
   "cell_type": "code",
   "execution_count": 52,
   "metadata": {},
   "outputs": [
    {
     "name": "stdout",
     "output_type": "stream",
     "text": [
      "16185\n"
     ]
    },
    {
     "data": {
      "text/html": [
       "<div>\n",
       "<style scoped>\n",
       "    .dataframe tbody tr th:only-of-type {\n",
       "        vertical-align: middle;\n",
       "    }\n",
       "\n",
       "    .dataframe tbody tr th {\n",
       "        vertical-align: top;\n",
       "    }\n",
       "\n",
       "    .dataframe thead th {\n",
       "        text-align: right;\n",
       "    }\n",
       "</style>\n",
       "<table border=\"1\" class=\"dataframe\">\n",
       "  <thead>\n",
       "    <tr style=\"text-align: right;\">\n",
       "      <th></th>\n",
       "      <th>image_path</th>\n",
       "      <th>image_name</th>\n",
       "      <th>label</th>\n",
       "      <th>label_name</th>\n",
       "      <th>split</th>\n",
       "    </tr>\n",
       "  </thead>\n",
       "  <tbody>\n",
       "    <tr>\n",
       "      <th>0</th>\n",
       "      <td>/data/hanchong/open-source-data/Stanford_Cars/...</td>\n",
       "      <td>00001.jpg</td>\n",
       "      <td>14</td>\n",
       "      <td>Audi TTS Coupe 2012</td>\n",
       "      <td>train</td>\n",
       "    </tr>\n",
       "    <tr>\n",
       "      <th>1</th>\n",
       "      <td>/data/hanchong/open-source-data/Stanford_Cars/...</td>\n",
       "      <td>00002.jpg</td>\n",
       "      <td>3</td>\n",
       "      <td>Acura TL Sedan 2012</td>\n",
       "      <td>train</td>\n",
       "    </tr>\n",
       "    <tr>\n",
       "      <th>2</th>\n",
       "      <td>/data/hanchong/open-source-data/Stanford_Cars/...</td>\n",
       "      <td>00003.jpg</td>\n",
       "      <td>91</td>\n",
       "      <td>Dodge Dakota Club Cab 2007</td>\n",
       "      <td>train</td>\n",
       "    </tr>\n",
       "    <tr>\n",
       "      <th>3</th>\n",
       "      <td>/data/hanchong/open-source-data/Stanford_Cars/...</td>\n",
       "      <td>00004.jpg</td>\n",
       "      <td>134</td>\n",
       "      <td>Hyundai Sonata Hybrid Sedan 2012</td>\n",
       "      <td>train</td>\n",
       "    </tr>\n",
       "    <tr>\n",
       "      <th>4</th>\n",
       "      <td>/data/hanchong/open-source-data/Stanford_Cars/...</td>\n",
       "      <td>00005.jpg</td>\n",
       "      <td>106</td>\n",
       "      <td>Ford F-450 Super Duty Crew Cab 2012</td>\n",
       "      <td>train</td>\n",
       "    </tr>\n",
       "  </tbody>\n",
       "</table>\n",
       "</div>"
      ],
      "text/plain": [
       "                                          image_path image_name  label  \\\n",
       "0  /data/hanchong/open-source-data/Stanford_Cars/...  00001.jpg     14   \n",
       "1  /data/hanchong/open-source-data/Stanford_Cars/...  00002.jpg      3   \n",
       "2  /data/hanchong/open-source-data/Stanford_Cars/...  00003.jpg     91   \n",
       "3  /data/hanchong/open-source-data/Stanford_Cars/...  00004.jpg    134   \n",
       "4  /data/hanchong/open-source-data/Stanford_Cars/...  00005.jpg    106   \n",
       "\n",
       "                            label_name  split  \n",
       "0                  Audi TTS Coupe 2012  train  \n",
       "1                  Acura TL Sedan 2012  train  \n",
       "2           Dodge Dakota Club Cab 2007  train  \n",
       "3     Hyundai Sonata Hybrid Sedan 2012  train  \n",
       "4  Ford F-450 Super Duty Crew Cab 2012  train  "
      ]
     },
     "execution_count": 52,
     "metadata": {},
     "output_type": "execute_result"
    }
   ],
   "source": [
    "folder = Path(\"/data/hanchong/open-source-data/Stanford_Cars/raw-data\")\n",
    "\n",
    "train_paths = (folder / \"cars_train\").rglob(\"*.jpg\")\n",
    "train_paths = sorted(train_paths)\n",
    "\n",
    "test_paths = (folder / \"cars_test\").rglob(\"*.jpg\")\n",
    "test_paths = sorted(test_paths)\n",
    "\n",
    "cars_meta = scipy.io.loadmat(\"/data/hanchong/open-source-data/Stanford_Cars/raw-data/devkit/cars_meta.mat\")\n",
    "class_names = cars_meta[\"class_names\"].flatten().tolist()\n",
    "class_names = [name[0] for name in class_names]\n",
    "\n",
    "cars_train_annos = scipy.io.loadmat(\"/data/hanchong/open-source-data/Stanford_Cars/raw-data/devkit/cars_train_annos.mat\")\n",
    "\n",
    "train_df = pd.DataFrame(\n",
    "    {\n",
    "        \"image_name\": [f[-1][0] for f in cars_train_annos[\"annotations\"].flatten().tolist()],\n",
    "        \"label\": [f[-2][0][0] for f in cars_train_annos[\"annotations\"].flatten().tolist()],\n",
    "    }\n",
    ")\n",
    "train_df[\"label_name\"] = train_df[\"label\"].apply(lambda x: class_names[x - 1])\n",
    "train_df[\"split\"] = \"train\"\n",
    "\n",
    "cars_test_annos = scipy.io.loadmat(\"/data/hanchong/open-source-data/Stanford_Cars/raw-data/cars_test_annos_withlabels.mat\")\n",
    "\n",
    "test_df = pd.DataFrame(\n",
    "    {\n",
    "        \"image_name\": [f[-1][0] for f in cars_test_annos[\"annotations\"].flatten().tolist()],\n",
    "        \"label\": [f[-2][0][0] for f in cars_test_annos[\"annotations\"].flatten().tolist()],\n",
    "    }\n",
    ")\n",
    "test_df[\"label_name\"] = test_df[\"label\"].apply(lambda x: class_names[x - 1])\n",
    "test_df[\"split\"] = \"test\"\n",
    "\n",
    "\n",
    "train_df = pd.DataFrame(\n",
    "    {\n",
    "        \"image_path\": train_paths,\n",
    "        \"image_name\": [path.name for path in train_paths],\n",
    "    }\n",
    ").merge(train_df, on=\"image_name\")\n",
    "\n",
    "test_df_2 = pd.DataFrame(\n",
    "    {\n",
    "        \"image_path\": test_paths,\n",
    "        \"image_name\": [path.name for path in test_paths],\n",
    "    }\n",
    ").merge(test_df, on=\"image_name\")\n",
    "\n",
    "df = pd.concat([train_df, test_df], ignore_index=True)\n",
    "\n",
    "print(len(df))\n",
    "df.head()"
   ]
  },
  {
   "cell_type": "code",
   "execution_count": 53,
   "metadata": {},
   "outputs": [
    {
     "data": {
      "text/plain": [
       "196"
      ]
     },
     "execution_count": 53,
     "metadata": {},
     "output_type": "execute_result"
    }
   ],
   "source": [
    "df[\"label\"].nunique()"
   ]
  },
  {
   "cell_type": "code",
   "execution_count": 54,
   "metadata": {},
   "outputs": [
    {
     "data": {
      "text/plain": [
       "label\n",
       "119    136\n",
       "79      97\n",
       "161     96\n",
       "167     95\n",
       "144     93\n",
       "      ... \n",
       "175     61\n",
       "64      59\n",
       "158     58\n",
       "99      55\n",
       "136     48\n",
       "Name: count, Length: 196, dtype: int64"
      ]
     },
     "execution_count": 54,
     "metadata": {},
     "output_type": "execute_result"
    }
   ],
   "source": [
    "df[\"label\"].value_counts()"
   ]
  },
  {
   "cell_type": "code",
   "execution_count": 55,
   "metadata": {},
   "outputs": [
    {
     "data": {
      "text/plain": [
       "split\n",
       "train    8144\n",
       "test     8041\n",
       "Name: count, dtype: int64"
      ]
     },
     "execution_count": 55,
     "metadata": {},
     "output_type": "execute_result"
    }
   ],
   "source": [
    "df[\"split\"].value_counts()"
   ]
  },
  {
   "cell_type": "markdown",
   "metadata": {},
   "source": [
    "# FGVC Aircraft"
   ]
  },
  {
   "cell_type": "code",
   "execution_count": null,
   "metadata": {},
   "outputs": [
    {
     "name": "stdout",
     "output_type": "stream",
     "text": [
      "10000\n"
     ]
    },
    {
     "data": {
      "text/html": [
       "<div>\n",
       "<style scoped>\n",
       "    .dataframe tbody tr th:only-of-type {\n",
       "        vertical-align: middle;\n",
       "    }\n",
       "\n",
       "    .dataframe tbody tr th {\n",
       "        vertical-align: top;\n",
       "    }\n",
       "\n",
       "    .dataframe thead th {\n",
       "        text-align: right;\n",
       "    }\n",
       "</style>\n",
       "<table border=\"1\" class=\"dataframe\">\n",
       "  <thead>\n",
       "    <tr style=\"text-align: right;\">\n",
       "      <th></th>\n",
       "      <th>image_path</th>\n",
       "      <th>image_name</th>\n",
       "      <th>label</th>\n",
       "      <th>label_name</th>\n",
       "      <th>split</th>\n",
       "    </tr>\n",
       "  </thead>\n",
       "  <tbody>\n",
       "    <tr>\n",
       "      <th>0</th>\n",
       "      <td>/data/hanchong/open-source-data/FGCV_Aircraft/...</td>\n",
       "      <td>0034309.jpg</td>\n",
       "      <td>56</td>\n",
       "      <td>DC-8</td>\n",
       "      <td>val</td>\n",
       "    </tr>\n",
       "    <tr>\n",
       "      <th>1</th>\n",
       "      <td>/data/hanchong/open-source-data/FGCV_Aircraft/...</td>\n",
       "      <td>0034958.jpg</td>\n",
       "      <td>3</td>\n",
       "      <td>737-200</td>\n",
       "      <td>val</td>\n",
       "    </tr>\n",
       "    <tr>\n",
       "      <th>2</th>\n",
       "      <td>/data/hanchong/open-source-data/FGCV_Aircraft/...</td>\n",
       "      <td>0037511.jpg</td>\n",
       "      <td>57</td>\n",
       "      <td>DC-9-30</td>\n",
       "      <td>val</td>\n",
       "    </tr>\n",
       "    <tr>\n",
       "      <th>3</th>\n",
       "      <td>/data/hanchong/open-source-data/FGCV_Aircraft/...</td>\n",
       "      <td>0037512.jpg</td>\n",
       "      <td>3</td>\n",
       "      <td>737-200</td>\n",
       "      <td>test</td>\n",
       "    </tr>\n",
       "    <tr>\n",
       "      <th>4</th>\n",
       "      <td>/data/hanchong/open-source-data/FGCV_Aircraft/...</td>\n",
       "      <td>0038598.jpg</td>\n",
       "      <td>86</td>\n",
       "      <td>MD-11</td>\n",
       "      <td>train</td>\n",
       "    </tr>\n",
       "  </tbody>\n",
       "</table>\n",
       "</div>"
      ],
      "text/plain": [
       "                                          image_path   image_name  label  \\\n",
       "0  /data/hanchong/open-source-data/FGCV_Aircraft/...  0034309.jpg     56   \n",
       "1  /data/hanchong/open-source-data/FGCV_Aircraft/...  0034958.jpg      3   \n",
       "2  /data/hanchong/open-source-data/FGCV_Aircraft/...  0037511.jpg     57   \n",
       "3  /data/hanchong/open-source-data/FGCV_Aircraft/...  0037512.jpg      3   \n",
       "4  /data/hanchong/open-source-data/FGCV_Aircraft/...  0038598.jpg     86   \n",
       "\n",
       "  label_name  split  \n",
       "0       DC-8    val  \n",
       "1    737-200    val  \n",
       "2    DC-9-30    val  \n",
       "3    737-200   test  \n",
       "4      MD-11  train  "
      ]
     },
     "execution_count": 119,
     "metadata": {},
     "output_type": "execute_result"
    }
   ],
   "source": [
    "paths = Path(\"/data/hanchong/open-source-data/FGCV_Aircraft/raw-data/data/images\").rglob(\"*.jpg\")\n",
    "paths = sorted(paths)\n",
    "\n",
    "df = pd.DataFrame(\n",
    "    {\n",
    "        \"image_path\": paths,\n",
    "        \"image_name\": [path.name for path in paths],\n",
    "    }\n",
    ")\n",
    "\n",
    "label_name_mapping = {}\n",
    "with open(\"/data/hanchong/open-source-data/FGCV_Aircraft/raw-data/data/variants.txt\") as f:\n",
    "    for index, line in enumerate(f.readlines()):\n",
    "        label_name = line.strip()\n",
    "        label_name_mapping[label_name] = index + 1\n",
    "\n",
    "data_list = []\n",
    "for path, split in [\n",
    "    (\"/data/hanchong/open-source-data/FGCV_Aircraft/raw-data/data/images_variant_train.txt\", \"train\"),\n",
    "    (\"/data/hanchong/open-source-data/FGCV_Aircraft/raw-data/data/images_variant_val.txt\", \"val\"),\n",
    "    (\"/data/hanchong/open-source-data/FGCV_Aircraft/raw-data/data/images_variant_test.txt\", \"test\"),\n",
    "]:\n",
    "    with open(path) as f:\n",
    "        for line in f.readlines():\n",
    "            image_name = line.strip().split(\" \", 1)[0]\n",
    "            data_list.append(\n",
    "                {\n",
    "                    \"image_name\": image_name + \".jpg\",\n",
    "                    \"label\": label_name_mapping[line[len(image_name) + 1 :].strip()],\n",
    "                    \"label_name\": line[len(image_name) + 1 :].strip(),\n",
    "                    \"split\": split,\n",
    "                }\n",
    "            )\n",
    "\n",
    "\n",
    "df = pd.merge(df, pd.DataFrame(data_list), on=\"image_name\")\n",
    "\n",
    "print(len(df))\n",
    "df.head()"
   ]
  },
  {
   "cell_type": "code",
   "execution_count": 120,
   "metadata": {},
   "outputs": [
    {
     "data": {
      "text/plain": [
       "100"
      ]
     },
     "execution_count": 120,
     "metadata": {},
     "output_type": "execute_result"
    }
   ],
   "source": [
    "df[\"label\"].nunique()"
   ]
  },
  {
   "cell_type": "code",
   "execution_count": 121,
   "metadata": {},
   "outputs": [
    {
     "data": {
      "text/plain": [
       "label\n",
       "56    100\n",
       "3     100\n",
       "57    100\n",
       "86    100\n",
       "42    100\n",
       "     ... \n",
       "59    100\n",
       "93    100\n",
       "67    100\n",
       "34    100\n",
       "66    100\n",
       "Name: count, Length: 100, dtype: int64"
      ]
     },
     "execution_count": 121,
     "metadata": {},
     "output_type": "execute_result"
    }
   ],
   "source": [
    "df[\"label\"].value_counts()"
   ]
  },
  {
   "cell_type": "code",
   "execution_count": 122,
   "metadata": {},
   "outputs": [
    {
     "data": {
      "text/plain": [
       "split\n",
       "train    3334\n",
       "val      3333\n",
       "test     3333\n",
       "Name: count, dtype: int64"
      ]
     },
     "execution_count": 122,
     "metadata": {},
     "output_type": "execute_result"
    }
   ],
   "source": [
    "df[\"split\"].value_counts()"
   ]
  },
  {
   "cell_type": "markdown",
   "metadata": {},
   "source": [
    "# Birdsnap"
   ]
  },
  {
   "cell_type": "code",
   "execution_count": 2,
   "metadata": {},
   "outputs": [
    {
     "name": "stdout",
     "output_type": "stream",
     "text": [
      "39286\n"
     ]
    },
    {
     "data": {
      "text/html": [
       "<div>\n",
       "<style scoped>\n",
       "    .dataframe tbody tr th:only-of-type {\n",
       "        vertical-align: middle;\n",
       "    }\n",
       "\n",
       "    .dataframe tbody tr th {\n",
       "        vertical-align: top;\n",
       "    }\n",
       "\n",
       "    .dataframe thead th {\n",
       "        text-align: right;\n",
       "    }\n",
       "</style>\n",
       "<table border=\"1\" class=\"dataframe\">\n",
       "  <thead>\n",
       "    <tr style=\"text-align: right;\">\n",
       "      <th></th>\n",
       "      <th>image_path</th>\n",
       "      <th>image_name</th>\n",
       "      <th>label_name</th>\n",
       "      <th>label</th>\n",
       "      <th>split</th>\n",
       "    </tr>\n",
       "  </thead>\n",
       "  <tbody>\n",
       "    <tr>\n",
       "      <th>0</th>\n",
       "      <td>/data/hanchong/open-source-data/Birdsnap/raw-d...</td>\n",
       "      <td>534070.jpg</td>\n",
       "      <td>Acadian_Flycatcher</td>\n",
       "      <td>1</td>\n",
       "      <td>train</td>\n",
       "    </tr>\n",
       "    <tr>\n",
       "      <th>1</th>\n",
       "      <td>/data/hanchong/open-source-data/Birdsnap/raw-d...</td>\n",
       "      <td>534076.jpg</td>\n",
       "      <td>Acadian_Flycatcher</td>\n",
       "      <td>1</td>\n",
       "      <td>train</td>\n",
       "    </tr>\n",
       "    <tr>\n",
       "      <th>2</th>\n",
       "      <td>/data/hanchong/open-source-data/Birdsnap/raw-d...</td>\n",
       "      <td>534079.jpg</td>\n",
       "      <td>Acadian_Flycatcher</td>\n",
       "      <td>1</td>\n",
       "      <td>train</td>\n",
       "    </tr>\n",
       "    <tr>\n",
       "      <th>3</th>\n",
       "      <td>/data/hanchong/open-source-data/Birdsnap/raw-d...</td>\n",
       "      <td>534080.jpg</td>\n",
       "      <td>Acadian_Flycatcher</td>\n",
       "      <td>1</td>\n",
       "      <td>train</td>\n",
       "    </tr>\n",
       "    <tr>\n",
       "      <th>4</th>\n",
       "      <td>/data/hanchong/open-source-data/Birdsnap/raw-d...</td>\n",
       "      <td>534083.jpg</td>\n",
       "      <td>Acadian_Flycatcher</td>\n",
       "      <td>1</td>\n",
       "      <td>train</td>\n",
       "    </tr>\n",
       "  </tbody>\n",
       "</table>\n",
       "</div>"
      ],
      "text/plain": [
       "                                          image_path  image_name  \\\n",
       "0  /data/hanchong/open-source-data/Birdsnap/raw-d...  534070.jpg   \n",
       "1  /data/hanchong/open-source-data/Birdsnap/raw-d...  534076.jpg   \n",
       "2  /data/hanchong/open-source-data/Birdsnap/raw-d...  534079.jpg   \n",
       "3  /data/hanchong/open-source-data/Birdsnap/raw-d...  534080.jpg   \n",
       "4  /data/hanchong/open-source-data/Birdsnap/raw-d...  534083.jpg   \n",
       "\n",
       "           label_name  label  split  \n",
       "0  Acadian_Flycatcher      1  train  \n",
       "1  Acadian_Flycatcher      1  train  \n",
       "2  Acadian_Flycatcher      1  train  \n",
       "3  Acadian_Flycatcher      1  train  \n",
       "4  Acadian_Flycatcher      1  train  "
      ]
     },
     "execution_count": 2,
     "metadata": {},
     "output_type": "execute_result"
    }
   ],
   "source": [
    "paths = Path(\"/data/hanchong/open-source-data/Birdsnap/raw-data/images\").rglob(\"*.jpg\")\n",
    "paths = sorted(paths)\n",
    "\n",
    "split_mapping = {}\n",
    "with open(\"/data/hanchong/open-source-data/Birdsnap/birdsnap/test_images.txt\") as f:\n",
    "    for line in f.readlines()[1:]:\n",
    "        image_name = line.strip()\n",
    "        split_mapping[image_name] = \"test\"\n",
    "\n",
    "df = pd.DataFrame(\n",
    "    {\n",
    "        \"image_path\": paths,\n",
    "        \"image_name\": [path.name for path in paths],        \n",
    "        \"label_name\": [path.parent.name for path in paths],\n",
    "    }\n",
    ")\n",
    "\n",
    "label_name_mapping = {}\n",
    "for index, label_name in enumerate(sorted(df[\"label_name\"].unique())):\n",
    "    label_name_mapping[label_name] = index + 1\n",
    "\n",
    "df[\"label\"] = df[\"label_name\"].apply(lambda x: label_name_mapping[x])\n",
    "df['split'] = df.apply(lambda x: split_mapping.get(f\"{x['label_name']}/{x['image_name']}\", \"train\"), axis=1)\n",
    "\n",
    "print(len(df))\n",
    "df.head()"
   ]
  },
  {
   "cell_type": "code",
   "execution_count": 3,
   "metadata": {},
   "outputs": [
    {
     "data": {
      "text/plain": [
       "500"
      ]
     },
     "execution_count": 3,
     "metadata": {},
     "output_type": "execute_result"
    }
   ],
   "source": [
    "df[\"label\"].nunique()"
   ]
  },
  {
   "cell_type": "code",
   "execution_count": 5,
   "metadata": {},
   "outputs": [
    {
     "data": {
      "text/plain": [
       "label\n",
       "259    97\n",
       "356    95\n",
       "393    94\n",
       "160    94\n",
       "497    94\n",
       "       ..\n",
       "127    45\n",
       "291    44\n",
       "213    41\n",
       "122    38\n",
       "105    33\n",
       "Name: count, Length: 500, dtype: int64"
      ]
     },
     "execution_count": 5,
     "metadata": {},
     "output_type": "execute_result"
    }
   ],
   "source": [
    "df[\"label\"].value_counts()"
   ]
  },
  {
   "cell_type": "code",
   "execution_count": 4,
   "metadata": {},
   "outputs": [
    {
     "data": {
      "text/plain": [
       "split\n",
       "train    37468\n",
       "test      1818\n",
       "Name: count, dtype: int64"
      ]
     },
     "execution_count": 4,
     "metadata": {},
     "output_type": "execute_result"
    }
   ],
   "source": [
    "df[\"split\"].value_counts()"
   ]
  },
  {
   "cell_type": "markdown",
   "metadata": {},
   "source": [
    "# NABirds"
   ]
  },
  {
   "cell_type": "code",
   "execution_count": 133,
   "metadata": {},
   "outputs": [
    {
     "name": "stdout",
     "output_type": "stream",
     "text": [
      "48527\n"
     ]
    },
    {
     "data": {
      "text/html": [
       "<div>\n",
       "<style scoped>\n",
       "    .dataframe tbody tr th:only-of-type {\n",
       "        vertical-align: middle;\n",
       "    }\n",
       "\n",
       "    .dataframe tbody tr th {\n",
       "        vertical-align: top;\n",
       "    }\n",
       "\n",
       "    .dataframe thead th {\n",
       "        text-align: right;\n",
       "    }\n",
       "</style>\n",
       "<table border=\"1\" class=\"dataframe\">\n",
       "  <thead>\n",
       "    <tr style=\"text-align: right;\">\n",
       "      <th></th>\n",
       "      <th>image_path</th>\n",
       "      <th>image_name</th>\n",
       "      <th>label</th>\n",
       "      <th>label_name</th>\n",
       "      <th>split</th>\n",
       "    </tr>\n",
       "  </thead>\n",
       "  <tbody>\n",
       "    <tr>\n",
       "      <th>0</th>\n",
       "      <td>/data/hanchong/open-source-data/NABirds/raw-da...</td>\n",
       "      <td>01f53d6bf5e449438d2bb79e0854bca4.jpg</td>\n",
       "      <td>295</td>\n",
       "      <td>Common Eider (Adult male)</td>\n",
       "      <td>train</td>\n",
       "    </tr>\n",
       "    <tr>\n",
       "      <th>1</th>\n",
       "      <td>/data/hanchong/open-source-data/NABirds/raw-da...</td>\n",
       "      <td>074a068d75404dfc9e37bffc8b37265e.jpg</td>\n",
       "      <td>295</td>\n",
       "      <td>Common Eider (Adult male)</td>\n",
       "      <td>test</td>\n",
       "    </tr>\n",
       "    <tr>\n",
       "      <th>2</th>\n",
       "      <td>/data/hanchong/open-source-data/NABirds/raw-da...</td>\n",
       "      <td>0daddfcbc9a54170ac06402bffeff37c.jpg</td>\n",
       "      <td>295</td>\n",
       "      <td>Common Eider (Adult male)</td>\n",
       "      <td>train</td>\n",
       "    </tr>\n",
       "    <tr>\n",
       "      <th>3</th>\n",
       "      <td>/data/hanchong/open-source-data/NABirds/raw-da...</td>\n",
       "      <td>19371d9dd2874202b9c7948a5543ed2e.jpg</td>\n",
       "      <td>295</td>\n",
       "      <td>Common Eider (Adult male)</td>\n",
       "      <td>test</td>\n",
       "    </tr>\n",
       "    <tr>\n",
       "      <th>4</th>\n",
       "      <td>/data/hanchong/open-source-data/NABirds/raw-da...</td>\n",
       "      <td>1fddd7c3b1b242eba5c020aaad4fb429.jpg</td>\n",
       "      <td>295</td>\n",
       "      <td>Common Eider (Adult male)</td>\n",
       "      <td>train</td>\n",
       "    </tr>\n",
       "  </tbody>\n",
       "</table>\n",
       "</div>"
      ],
      "text/plain": [
       "                                          image_path  \\\n",
       "0  /data/hanchong/open-source-data/NABirds/raw-da...   \n",
       "1  /data/hanchong/open-source-data/NABirds/raw-da...   \n",
       "2  /data/hanchong/open-source-data/NABirds/raw-da...   \n",
       "3  /data/hanchong/open-source-data/NABirds/raw-da...   \n",
       "4  /data/hanchong/open-source-data/NABirds/raw-da...   \n",
       "\n",
       "                             image_name  label                 label_name  \\\n",
       "0  01f53d6bf5e449438d2bb79e0854bca4.jpg    295  Common Eider (Adult male)   \n",
       "1  074a068d75404dfc9e37bffc8b37265e.jpg    295  Common Eider (Adult male)   \n",
       "2  0daddfcbc9a54170ac06402bffeff37c.jpg    295  Common Eider (Adult male)   \n",
       "3  19371d9dd2874202b9c7948a5543ed2e.jpg    295  Common Eider (Adult male)   \n",
       "4  1fddd7c3b1b242eba5c020aaad4fb429.jpg    295  Common Eider (Adult male)   \n",
       "\n",
       "   split  \n",
       "0  train  \n",
       "1   test  \n",
       "2  train  \n",
       "3   test  \n",
       "4  train  "
      ]
     },
     "execution_count": 133,
     "metadata": {},
     "output_type": "execute_result"
    }
   ],
   "source": [
    "paths = Path(\"/data/hanchong/open-source-data/NABirds/raw-data/images\").rglob(\"*.jpg\")\n",
    "paths = sorted(paths)\n",
    "\n",
    "label_name_mapping = {}\n",
    "with open(\"/data/hanchong/open-source-data/NABirds/raw-data/classes.txt\") as f:\n",
    "    for line in f.readlines():\n",
    "        label = line.strip().split(\" \", 1)[0]\n",
    "        label_name = line[len(label) + 1 :].strip()\n",
    "        label_name_mapping[int(label)] = label_name\n",
    "\n",
    "split_mapping = {}\n",
    "with open(\"/data/hanchong/open-source-data/NABirds/raw-data/train_test_split.txt\") as f:\n",
    "    for line in f.readlines():\n",
    "        image_name, split = line.strip().split(\" \")\n",
    "        split_mapping[\"\".join(image_name.split(\"-\")) + \".jpg\"] = {0: \"test\", 1: \"train\"}[int(split)]\n",
    "\n",
    "df = pd.DataFrame(\n",
    "    {\n",
    "        \"image_path\": paths,\n",
    "        \"image_name\": [path.name for path in paths],\n",
    "        \"label\": [int(path.parent.name) for path in paths],\n",
    "    }\n",
    ")\n",
    "df[\"label_name\"] = df[\"label\"].apply(lambda x: label_name_mapping[x])\n",
    "df[\"split\"] = df[\"image_name\"].apply(lambda x: split_mapping[x])\n",
    "\n",
    "print(len(df))\n",
    "df.head()"
   ]
  },
  {
   "cell_type": "code",
   "execution_count": 134,
   "metadata": {},
   "outputs": [
    {
     "data": {
      "text/plain": [
       "555"
      ]
     },
     "execution_count": 134,
     "metadata": {},
     "output_type": "execute_result"
    }
   ],
   "source": [
    "df[\"label\"].nunique()"
   ]
  },
  {
   "cell_type": "code",
   "execution_count": 135,
   "metadata": {},
   "outputs": [
    {
     "data": {
      "text/plain": [
       "label\n",
       "299     120\n",
       "314     120\n",
       "317     120\n",
       "320     120\n",
       "756     120\n",
       "       ... \n",
       "1006     25\n",
       "755      24\n",
       "341      23\n",
       "664      21\n",
       "975      13\n",
       "Name: count, Length: 555, dtype: int64"
      ]
     },
     "execution_count": 135,
     "metadata": {},
     "output_type": "execute_result"
    }
   ],
   "source": [
    "df[\"label\"].value_counts()"
   ]
  },
  {
   "cell_type": "code",
   "execution_count": 137,
   "metadata": {},
   "outputs": [
    {
     "data": {
      "text/plain": [
       "split\n",
       "0    24633\n",
       "1    23929\n",
       "Name: count, dtype: int64"
      ]
     },
     "execution_count": 137,
     "metadata": {},
     "output_type": "execute_result"
    }
   ],
   "source": [
    "split_df[\"split\"].value_counts()"
   ]
  },
  {
   "cell_type": "code",
   "execution_count": 138,
   "metadata": {},
   "outputs": [
    {
     "data": {
      "text/plain": [
       "split\n",
       "test     24615\n",
       "train    23912\n",
       "Name: count, dtype: int64"
      ]
     },
     "execution_count": 138,
     "metadata": {},
     "output_type": "execute_result"
    }
   ],
   "source": [
    "df[\"split\"].value_counts()"
   ]
  },
  {
   "cell_type": "markdown",
   "metadata": {},
   "source": [
    "# iNat2017"
   ]
  },
  {
   "cell_type": "code",
   "execution_count": 38,
   "metadata": {},
   "outputs": [
    {
     "name": "stdout",
     "output_type": "stream",
     "text": [
      "675170\n"
     ]
    },
    {
     "data": {
      "text/html": [
       "<div>\n",
       "<style scoped>\n",
       "    .dataframe tbody tr th:only-of-type {\n",
       "        vertical-align: middle;\n",
       "    }\n",
       "\n",
       "    .dataframe tbody tr th {\n",
       "        vertical-align: top;\n",
       "    }\n",
       "\n",
       "    .dataframe thead th {\n",
       "        text-align: right;\n",
       "    }\n",
       "</style>\n",
       "<table border=\"1\" class=\"dataframe\">\n",
       "  <thead>\n",
       "    <tr style=\"text-align: right;\">\n",
       "      <th></th>\n",
       "      <th>image_path</th>\n",
       "      <th>image_name</th>\n",
       "      <th>label</th>\n",
       "      <th>label_name</th>\n",
       "      <th>split</th>\n",
       "    </tr>\n",
       "  </thead>\n",
       "  <tbody>\n",
       "    <tr>\n",
       "      <th>0</th>\n",
       "      <td>/data/hanchong/open-source-data/iNat2017/raw-d...</td>\n",
       "      <td>0bb15d607734ee8ed27d8f45e88bf426.jpg</td>\n",
       "      <td>4745</td>\n",
       "      <td>Abudefduf saxatilis</td>\n",
       "      <td>val</td>\n",
       "    </tr>\n",
       "    <tr>\n",
       "      <th>1</th>\n",
       "      <td>/data/hanchong/open-source-data/iNat2017/raw-d...</td>\n",
       "      <td>10d4c817f42724f907bdf5f640d4d472.jpg</td>\n",
       "      <td>4745</td>\n",
       "      <td>Abudefduf saxatilis</td>\n",
       "      <td>val</td>\n",
       "    </tr>\n",
       "    <tr>\n",
       "      <th>2</th>\n",
       "      <td>/data/hanchong/open-source-data/iNat2017/raw-d...</td>\n",
       "      <td>19892e351c95f9ee4e25e8667fc3f7e9.jpg</td>\n",
       "      <td>4745</td>\n",
       "      <td>Abudefduf saxatilis</td>\n",
       "      <td>train</td>\n",
       "    </tr>\n",
       "    <tr>\n",
       "      <th>3</th>\n",
       "      <td>/data/hanchong/open-source-data/iNat2017/raw-d...</td>\n",
       "      <td>1faf0ba615708a021d080c5a8898dd8e.jpg</td>\n",
       "      <td>4745</td>\n",
       "      <td>Abudefduf saxatilis</td>\n",
       "      <td>train</td>\n",
       "    </tr>\n",
       "    <tr>\n",
       "      <th>4</th>\n",
       "      <td>/data/hanchong/open-source-data/iNat2017/raw-d...</td>\n",
       "      <td>206dae61fd527c7d47bf545eb1bddb36.jpg</td>\n",
       "      <td>4745</td>\n",
       "      <td>Abudefduf saxatilis</td>\n",
       "      <td>train</td>\n",
       "    </tr>\n",
       "  </tbody>\n",
       "</table>\n",
       "</div>"
      ],
      "text/plain": [
       "                                          image_path  \\\n",
       "0  /data/hanchong/open-source-data/iNat2017/raw-d...   \n",
       "1  /data/hanchong/open-source-data/iNat2017/raw-d...   \n",
       "2  /data/hanchong/open-source-data/iNat2017/raw-d...   \n",
       "3  /data/hanchong/open-source-data/iNat2017/raw-d...   \n",
       "4  /data/hanchong/open-source-data/iNat2017/raw-d...   \n",
       "\n",
       "                             image_name  label           label_name  split  \n",
       "0  0bb15d607734ee8ed27d8f45e88bf426.jpg   4745  Abudefduf saxatilis    val  \n",
       "1  10d4c817f42724f907bdf5f640d4d472.jpg   4745  Abudefduf saxatilis    val  \n",
       "2  19892e351c95f9ee4e25e8667fc3f7e9.jpg   4745  Abudefduf saxatilis  train  \n",
       "3  1faf0ba615708a021d080c5a8898dd8e.jpg   4745  Abudefduf saxatilis  train  \n",
       "4  206dae61fd527c7d47bf545eb1bddb36.jpg   4745  Abudefduf saxatilis  train  "
      ]
     },
     "execution_count": 38,
     "metadata": {},
     "output_type": "execute_result"
    }
   ],
   "source": [
    "paths = Path(\"/data/hanchong/open-source-data/iNat2017/raw-data/train_val_images\").rglob(\"*.jpg\")\n",
    "paths = sorted(paths)\n",
    "\n",
    "split_mapping = {}\n",
    "with open(\"/data/hanchong/open-source-data/iNat2017/raw-data/train2017.json\") as f:\n",
    "    train2019 = json.load(f)\n",
    "    for image in train2019[\"images\"]:\n",
    "        split_mapping[image[\"file_name\"].split(\"/\")[-1]] = \"train\"\n",
    "\n",
    "with open(\"/data/hanchong/open-source-data/iNat2017/raw-data/val2017.json\") as f:\n",
    "    val2019 = json.load(f)\n",
    "    for image in val2019[\"images\"]:\n",
    "        split_mapping[image[\"file_name\"].split(\"/\")[-1]] = \"val\"\n",
    "\n",
    "\n",
    "label_name_mapping = {}\n",
    "for category in train2019[\"categories\"]:\n",
    "    label_name_mapping[category[\"name\"]] = int(category[\"id\"])\n",
    "\n",
    "df = pd.DataFrame(\n",
    "    {\n",
    "        \"image_path\": paths,\n",
    "        \"image_name\": [path.name for path in paths],\n",
    "        \"label\": [label_name_mapping[path.parent.name] for path in paths],\n",
    "        \"label_name\": [path.parent.name for path in paths],\n",
    "    }\n",
    ")\n",
    "df[\"split\"] = df[\"image_name\"].apply(lambda x: split_mapping[x])\n",
    "\n",
    "print(len(df))\n",
    "df.head()"
   ]
  },
  {
   "cell_type": "code",
   "execution_count": 39,
   "metadata": {},
   "outputs": [
    {
     "data": {
      "text/plain": [
       "5089"
      ]
     },
     "execution_count": 39,
     "metadata": {},
     "output_type": "execute_result"
    }
   ],
   "source": [
    "df[\"label\"].nunique()"
   ]
  },
  {
   "cell_type": "code",
   "execution_count": 40,
   "metadata": {},
   "outputs": [
    {
     "data": {
      "text/plain": [
       "label\n",
       "5076    3949\n",
       "3752    3914\n",
       "514     3712\n",
       "169     3359\n",
       "1161    3290\n",
       "        ... \n",
       "1151      15\n",
       "1588      15\n",
       "1871      15\n",
       "3068      14\n",
       "72        14\n",
       "Name: count, Length: 5089, dtype: int64"
      ]
     },
     "execution_count": 40,
     "metadata": {},
     "output_type": "execute_result"
    }
   ],
   "source": [
    "df[\"label\"].value_counts()"
   ]
  },
  {
   "cell_type": "code",
   "execution_count": 41,
   "metadata": {},
   "outputs": [
    {
     "data": {
      "text/plain": [
       "split\n",
       "train    579184\n",
       "val       95986\n",
       "Name: count, dtype: int64"
      ]
     },
     "execution_count": 41,
     "metadata": {},
     "output_type": "execute_result"
    }
   ],
   "source": [
    "df[\"split\"].value_counts()"
   ]
  },
  {
   "cell_type": "markdown",
   "metadata": {},
   "source": [
    "# iNat2019"
   ]
  },
  {
   "cell_type": "code",
   "execution_count": 34,
   "metadata": {},
   "outputs": [
    {
     "name": "stdout",
     "output_type": "stream",
     "text": [
      "268243\n"
     ]
    },
    {
     "data": {
      "text/html": [
       "<div>\n",
       "<style scoped>\n",
       "    .dataframe tbody tr th:only-of-type {\n",
       "        vertical-align: middle;\n",
       "    }\n",
       "\n",
       "    .dataframe tbody tr th {\n",
       "        vertical-align: top;\n",
       "    }\n",
       "\n",
       "    .dataframe thead th {\n",
       "        text-align: right;\n",
       "    }\n",
       "</style>\n",
       "<table border=\"1\" class=\"dataframe\">\n",
       "  <thead>\n",
       "    <tr style=\"text-align: right;\">\n",
       "      <th></th>\n",
       "      <th>image_path</th>\n",
       "      <th>image_name</th>\n",
       "      <th>label</th>\n",
       "      <th>label_name</th>\n",
       "      <th>split</th>\n",
       "    </tr>\n",
       "  </thead>\n",
       "  <tbody>\n",
       "    <tr>\n",
       "      <th>0</th>\n",
       "      <td>/data/hanchong/open-source-data/iNat2019/raw-d...</td>\n",
       "      <td>0042d05b4ffbd5a1ce2fc56513a7777e.jpg</td>\n",
       "      <td>153</td>\n",
       "      <td>Lithobates sphenocephalus</td>\n",
       "      <td>train</td>\n",
       "    </tr>\n",
       "    <tr>\n",
       "      <th>1</th>\n",
       "      <td>/data/hanchong/open-source-data/iNat2019/raw-d...</td>\n",
       "      <td>006f69e838b87cfff3d12120795c4ada.jpg</td>\n",
       "      <td>153</td>\n",
       "      <td>Lithobates sphenocephalus</td>\n",
       "      <td>train</td>\n",
       "    </tr>\n",
       "    <tr>\n",
       "      <th>2</th>\n",
       "      <td>/data/hanchong/open-source-data/iNat2019/raw-d...</td>\n",
       "      <td>00c1bf968b20839ead054b3ab9eb1ce2.jpg</td>\n",
       "      <td>153</td>\n",
       "      <td>Lithobates sphenocephalus</td>\n",
       "      <td>train</td>\n",
       "    </tr>\n",
       "    <tr>\n",
       "      <th>3</th>\n",
       "      <td>/data/hanchong/open-source-data/iNat2019/raw-d...</td>\n",
       "      <td>011ae401924d635371dc70e059b9748b.jpg</td>\n",
       "      <td>153</td>\n",
       "      <td>Lithobates sphenocephalus</td>\n",
       "      <td>train</td>\n",
       "    </tr>\n",
       "    <tr>\n",
       "      <th>4</th>\n",
       "      <td>/data/hanchong/open-source-data/iNat2019/raw-d...</td>\n",
       "      <td>013862c72d6dc1344892e96af1130d76.jpg</td>\n",
       "      <td>153</td>\n",
       "      <td>Lithobates sphenocephalus</td>\n",
       "      <td>train</td>\n",
       "    </tr>\n",
       "  </tbody>\n",
       "</table>\n",
       "</div>"
      ],
      "text/plain": [
       "                                          image_path  \\\n",
       "0  /data/hanchong/open-source-data/iNat2019/raw-d...   \n",
       "1  /data/hanchong/open-source-data/iNat2019/raw-d...   \n",
       "2  /data/hanchong/open-source-data/iNat2019/raw-d...   \n",
       "3  /data/hanchong/open-source-data/iNat2019/raw-d...   \n",
       "4  /data/hanchong/open-source-data/iNat2019/raw-d...   \n",
       "\n",
       "                             image_name  label                 label_name  \\\n",
       "0  0042d05b4ffbd5a1ce2fc56513a7777e.jpg    153  Lithobates sphenocephalus   \n",
       "1  006f69e838b87cfff3d12120795c4ada.jpg    153  Lithobates sphenocephalus   \n",
       "2  00c1bf968b20839ead054b3ab9eb1ce2.jpg    153  Lithobates sphenocephalus   \n",
       "3  011ae401924d635371dc70e059b9748b.jpg    153  Lithobates sphenocephalus   \n",
       "4  013862c72d6dc1344892e96af1130d76.jpg    153  Lithobates sphenocephalus   \n",
       "\n",
       "   split  \n",
       "0  train  \n",
       "1  train  \n",
       "2  train  \n",
       "3  train  \n",
       "4  train  "
      ]
     },
     "execution_count": 34,
     "metadata": {},
     "output_type": "execute_result"
    }
   ],
   "source": [
    "paths = Path(\"/data/hanchong/open-source-data/iNat2019/raw-data/train_val2019\").rglob(\"*.jpg\")\n",
    "paths = sorted(paths)\n",
    "\n",
    "with open(\"/data/hanchong/open-source-data/iNat2019/raw-data/categories.json\") as f:\n",
    "    categories = json.load(f)\n",
    "\n",
    "split_mapping = {}\n",
    "with open(\"/data/hanchong/open-source-data/iNat2019/raw-data/train2019.json\") as f:\n",
    "    train2019 = json.load(f)\n",
    "    for image in train2019[\"images\"]:\n",
    "        split_mapping[image[\"file_name\"].split(\"/\")[-1]] = \"train\"\n",
    "\n",
    "with open(\"/data/hanchong/open-source-data/iNat2019/raw-data/val2019.json\") as f:\n",
    "    val2019 = json.load(f)\n",
    "    for image in val2019[\"images\"]:\n",
    "        split_mapping[image[\"file_name\"].split(\"/\")[-1]] = \"val\"\n",
    "\n",
    "df = pd.DataFrame(\n",
    "    {\n",
    "        \"image_path\": paths,\n",
    "        \"image_name\": [path.name for path in paths],\n",
    "        \"label\": [int(path.parent.name) for path in paths],\n",
    "    }\n",
    ")\n",
    "df[\"label_name\"] = df[\"label\"].apply(lambda x: categories[x][\"name\"])\n",
    "df[\"split\"] = df[\"image_name\"].apply(lambda x: split_mapping[x])\n",
    "\n",
    "print(len(df))\n",
    "df.head()"
   ]
  },
  {
   "cell_type": "code",
   "execution_count": 35,
   "metadata": {},
   "outputs": [
    {
     "data": {
      "text/plain": [
       "1010"
      ]
     },
     "execution_count": 35,
     "metadata": {},
     "output_type": "execute_result"
    }
   ],
   "source": [
    "df[\"label\"].nunique()"
   ]
  },
  {
   "cell_type": "code",
   "execution_count": 36,
   "metadata": {},
   "outputs": [
    {
     "data": {
      "text/plain": [
       "label\n",
       "155    503\n",
       "201    503\n",
       "153    503\n",
       "156    503\n",
       "194    503\n",
       "      ... \n",
       "813     29\n",
       "612     27\n",
       "553     26\n",
       "899     25\n",
       "689     19\n",
       "Name: count, Length: 1010, dtype: int64"
      ]
     },
     "execution_count": 36,
     "metadata": {},
     "output_type": "execute_result"
    }
   ],
   "source": [
    "df[\"label\"].value_counts()"
   ]
  },
  {
   "cell_type": "code",
   "execution_count": 37,
   "metadata": {},
   "outputs": [
    {
     "data": {
      "text/plain": [
       "split\n",
       "train    265213\n",
       "val        3030\n",
       "Name: count, dtype: int64"
      ]
     },
     "execution_count": 37,
     "metadata": {},
     "output_type": "execute_result"
    }
   ],
   "source": [
    "df[\"split\"].value_counts()"
   ]
  },
  {
   "cell_type": "code",
   "execution_count": null,
   "metadata": {},
   "outputs": [],
   "source": []
  }
 ],
 "metadata": {
  "kernelspec": {
   "display_name": "FGR",
   "language": "python",
   "name": "python3"
  },
  "language_info": {
   "codemirror_mode": {
    "name": "ipython",
    "version": 3
   },
   "file_extension": ".py",
   "mimetype": "text/x-python",
   "name": "python",
   "nbconvert_exporter": "python",
   "pygments_lexer": "ipython3",
   "version": "3.12.9"
  }
 },
 "nbformat": 4,
 "nbformat_minor": 2
}
