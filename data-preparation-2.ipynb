{
 "cells": [
  {
   "cell_type": "markdown",
   "metadata": {},
   "source": [
    "# Primary Dataset"
   ]
  },
  {
   "cell_type": "markdown",
   "metadata": {},
   "source": [
    "## Birdsnap"
   ]
  },
  {
   "cell_type": "code",
   "execution_count": 1,
   "metadata": {},
   "outputs": [],
   "source": [
    "from dinov2.dinov2.data.datasets import Birdsnap\n",
    "\n",
    "for split in Birdsnap.Split:\n",
    "    if split == Birdsnap.Split.TEST:\n",
    "        continue\n",
    "    dataset = Birdsnap(\n",
    "        split=split,\n",
    "        root=\"/data/hanchong/open-source-data/PrimaryDatasets/Birdsnap/processed-data\",\n",
    "        extra=\"/data/hanchong/open-source-data/PrimaryDatasets/Birdsnap/processed-data\",\n",
    "    )\n",
    "    dataset.dump_extra()"
   ]
  },
  {
   "cell_type": "markdown",
   "metadata": {},
   "source": [
    "## Country211"
   ]
  },
  {
   "cell_type": "code",
   "execution_count": 2,
   "metadata": {},
   "outputs": [],
   "source": [
    "from dinov2.dinov2.data.datasets import Country211\n",
    "\n",
    "for split in Country211.Split:\n",
    "    if split == Country211.Split.TEST:\n",
    "        continue\n",
    "    dataset = Country211(\n",
    "        split=split,\n",
    "        root=\"/data/hanchong/open-source-data/PrimaryDatasets/Country211/processed-data\",\n",
    "        extra=\"/data/hanchong/open-source-data/PrimaryDatasets/Country211/processed-data\",\n",
    "    )\n",
    "    dataset.dump_extra()"
   ]
  },
  {
   "cell_type": "markdown",
   "metadata": {},
   "source": [
    "## CUB-200-2011"
   ]
  },
  {
   "cell_type": "code",
   "execution_count": 3,
   "metadata": {},
   "outputs": [],
   "source": [
    "from dinov2.dinov2.data.datasets import CUB200_2011\n",
    "\n",
    "for split in CUB200_2011.Split:\n",
    "    if split == CUB200_2011.Split.TEST:\n",
    "        continue\n",
    "    dataset = CUB200_2011(\n",
    "        split=split,\n",
    "        root=\"/data/hanchong/open-source-data/PrimaryDatasets/CUB-200-2011/processed-data\",\n",
    "        extra=\"/data/hanchong/open-source-data/PrimaryDatasets/CUB-200-2011/processed-data\",\n",
    "    )\n",
    "    dataset.dump_extra()"
   ]
  },
  {
   "cell_type": "markdown",
   "metadata": {},
   "source": [
    "## FGVC Aircraft"
   ]
  },
  {
   "cell_type": "code",
   "execution_count": 4,
   "metadata": {},
   "outputs": [],
   "source": [
    "from dinov2.dinov2.data.datasets import FGVC_Aircraft\n",
    "\n",
    "for split in FGVC_Aircraft.Split:\n",
    "    if split == FGVC_Aircraft.Split.TEST:\n",
    "        continue\n",
    "    dataset = FGVC_Aircraft(\n",
    "        split=split,\n",
    "        root=\"/data/hanchong/open-source-data/PrimaryDatasets/FGVC_Aircraft/processed-data\",\n",
    "        extra=\"/data/hanchong/open-source-data/PrimaryDatasets/FGVC_Aircraft/processed-data\",\n",
    "    )\n",
    "    dataset.dump_extra()"
   ]
  },
  {
   "cell_type": "markdown",
   "metadata": {},
   "source": [
    "## Food-101"
   ]
  },
  {
   "cell_type": "code",
   "execution_count": 5,
   "metadata": {},
   "outputs": [],
   "source": [
    "from dinov2.dinov2.data.datasets import Food101\n",
    "\n",
    "for split in Food101.Split:\n",
    "    if split == Food101.Split.TEST:\n",
    "        continue\n",
    "    dataset = Food101(\n",
    "        split=split,\n",
    "        root=\"/data/hanchong/open-source-data/PrimaryDatasets/Food-101/processed-data\",\n",
    "        extra=\"/data/hanchong/open-source-data/PrimaryDatasets/Food-101/processed-data\",\n",
    "    )\n",
    "    dataset.dump_extra()"
   ]
  },
  {
   "cell_type": "markdown",
   "metadata": {},
   "source": [
    "## NABirds"
   ]
  },
  {
   "cell_type": "code",
   "execution_count": 6,
   "metadata": {},
   "outputs": [],
   "source": [
    "from dinov2.dinov2.data.datasets import NABirds\n",
    "\n",
    "for split in NABirds.Split:\n",
    "    if split == NABirds.Split.TEST:\n",
    "        continue\n",
    "    dataset = NABirds(\n",
    "        split=split,\n",
    "        root=\"/data/hanchong/open-source-data/PrimaryDatasets/NABirds/processed-data\",\n",
    "        extra=\"/data/hanchong/open-source-data/PrimaryDatasets/NABirds/processed-data\",\n",
    "    )\n",
    "    dataset.dump_extra()"
   ]
  },
  {
   "cell_type": "markdown",
   "metadata": {},
   "source": [
    "## Oxford Flowers"
   ]
  },
  {
   "cell_type": "code",
   "execution_count": 7,
   "metadata": {},
   "outputs": [],
   "source": [
    "from dinov2.dinov2.data.datasets import OxfordFlowers\n",
    "\n",
    "for split in OxfordFlowers.Split:\n",
    "    if split == OxfordFlowers.Split.TEST:\n",
    "        continue\n",
    "    dataset = OxfordFlowers(\n",
    "        split=split,\n",
    "        root=\"/data/hanchong/open-source-data/PrimaryDatasets/Oxford_Flowers/processed-data\",\n",
    "        extra=\"/data/hanchong/open-source-data/PrimaryDatasets/Oxford_Flowers/processed-data\",\n",
    "    )\n",
    "    dataset.dump_extra()"
   ]
  },
  {
   "cell_type": "markdown",
   "metadata": {},
   "source": [
    "## Oxford Pets"
   ]
  },
  {
   "cell_type": "code",
   "execution_count": 8,
   "metadata": {},
   "outputs": [],
   "source": [
    "from dinov2.dinov2.data.datasets import OxfordPets\n",
    "\n",
    "for split in OxfordPets.Split:\n",
    "    if split == OxfordPets.Split.TEST:\n",
    "        continue\n",
    "    dataset = OxfordPets(\n",
    "        split=split,\n",
    "        root=\"/data/hanchong/open-source-data/PrimaryDatasets/Oxford_Pets/processed-data\",\n",
    "        extra=\"/data/hanchong/open-source-data/PrimaryDatasets/Oxford_Pets/processed-data\",\n",
    "    )\n",
    "    dataset.dump_extra()"
   ]
  },
  {
   "cell_type": "markdown",
   "metadata": {},
   "source": [
    "## RESISC45"
   ]
  },
  {
   "cell_type": "code",
   "execution_count": 9,
   "metadata": {},
   "outputs": [],
   "source": [
    "from dinov2.dinov2.data.datasets import RESISC45\n",
    "\n",
    "for split in RESISC45.Split:\n",
    "    if split == RESISC45.Split.TEST:\n",
    "        continue\n",
    "    dataset = RESISC45(\n",
    "        split=split,\n",
    "        root=\"/data/hanchong/open-source-data/PrimaryDatasets/RESISC45/processed-data\",\n",
    "        extra=\"/data/hanchong/open-source-data/PrimaryDatasets/RESISC45/processed-data\",\n",
    "    )\n",
    "    dataset.dump_extra()"
   ]
  },
  {
   "cell_type": "markdown",
   "metadata": {},
   "source": [
    "## Standford Cars"
   ]
  },
  {
   "cell_type": "code",
   "execution_count": 10,
   "metadata": {},
   "outputs": [],
   "source": [
    "from dinov2.dinov2.data.datasets import StanfordCars\n",
    "\n",
    "for split in StanfordCars.Split:\n",
    "    if split == StanfordCars.Split.TEST:\n",
    "        continue\n",
    "    dataset = StanfordCars(\n",
    "        split=split,\n",
    "        root=\"/data/hanchong/open-source-data/PrimaryDatasets/Stanford_Cars/processed-data\",\n",
    "        extra=\"/data/hanchong/open-source-data/PrimaryDatasets/Stanford_Cars/processed-data\",\n",
    "    )\n",
    "    dataset.dump_extra()"
   ]
  },
  {
   "cell_type": "markdown",
   "metadata": {},
   "source": [
    "## Stanford Dogs"
   ]
  },
  {
   "cell_type": "code",
   "execution_count": 11,
   "metadata": {},
   "outputs": [],
   "source": [
    "from dinov2.dinov2.data.datasets import StanfordDogs\n",
    "\n",
    "for split in StanfordDogs.Split:\n",
    "    if split == StanfordDogs.Split.TEST:\n",
    "        continue\n",
    "    dataset = StanfordDogs(\n",
    "        split=split,\n",
    "        root=\"/data/hanchong/open-source-data/PrimaryDatasets/Stanford_Dogs/processed-data\",\n",
    "        extra=\"/data/hanchong/open-source-data/PrimaryDatasets/Stanford_Dogs/processed-data\",\n",
    "    )\n",
    "    dataset.dump_extra()"
   ]
  },
  {
   "cell_type": "markdown",
   "metadata": {},
   "source": [
    "## SUN397"
   ]
  },
  {
   "cell_type": "code",
   "execution_count": 12,
   "metadata": {},
   "outputs": [],
   "source": [
    "from dinov2.dinov2.data.datasets import SUN397\n",
    "\n",
    "for split in SUN397.Split:\n",
    "    if split == SUN397.Split.TEST:\n",
    "        continue\n",
    "    dataset = SUN397(\n",
    "        split=split,\n",
    "        root=\"/data/hanchong/open-source-data/PrimaryDatasets/SUN397/processed-data\",\n",
    "        extra=\"/data/hanchong/open-source-data/PrimaryDatasets/SUN397/processed-data\",\n",
    "    )\n",
    "    dataset.dump_extra()"
   ]
  },
  {
   "cell_type": "markdown",
   "metadata": {},
   "source": [
    "# Secondary Dataset"
   ]
  },
  {
   "cell_type": "markdown",
   "metadata": {},
   "source": [
    "## iNaturalist 2017"
   ]
  },
  {
   "cell_type": "code",
   "execution_count": 1,
   "metadata": {},
   "outputs": [],
   "source": [
    "from dinov2.dinov2.data.datasets import INaturalist_2017\n",
    "\n",
    "for split in INaturalist_2017.Split:\n",
    "    if split == INaturalist_2017.Split.TEST:\n",
    "        continue\n",
    "    dataset = INaturalist_2017(\n",
    "        split=split,\n",
    "        root=\"/data/hanchong/open-source-data/SecondaryDatasets/iNaturalist_2017/processed-data\",\n",
    "        extra=\"/data/hanchong/open-source-data/SecondaryDatasets/iNaturalist_2017/processed-data\",\n",
    "    )\n",
    "    dataset.dump_extra()"
   ]
  },
  {
   "cell_type": "markdown",
   "metadata": {},
   "source": [
    "## iNaturalist 2019"
   ]
  },
  {
   "cell_type": "code",
   "execution_count": 2,
   "metadata": {},
   "outputs": [],
   "source": [
    "from dinov2.dinov2.data.datasets import INaturalist_2019\n",
    "\n",
    "for split in INaturalist_2019.Split:\n",
    "    if split == INaturalist_2019.Split.TEST:\n",
    "        continue\n",
    "    dataset = INaturalist_2019(\n",
    "        split=split,\n",
    "        root=\"/data/hanchong/open-source-data/SecondaryDatasets/iNaturalist_2019/processed-data\",\n",
    "        extra=\"/data/hanchong/open-source-data/SecondaryDatasets/iNaturalist_2019/processed-data\",\n",
    "    )\n",
    "    dataset.dump_extra()"
   ]
  },
  {
   "cell_type": "markdown",
   "metadata": {},
   "source": [
    "## Butterflies and Moths 2019"
   ]
  },
  {
   "cell_type": "code",
   "execution_count": 1,
   "metadata": {},
   "outputs": [],
   "source": [
    "from dinov2.dinov2.data.datasets import ButterfliesMoths_2019\n",
    "\n",
    "for split in ButterfliesMoths_2019.Split:\n",
    "    if split == ButterfliesMoths_2019.Split.TEST:\n",
    "        continue\n",
    "    dataset = ButterfliesMoths_2019(\n",
    "        split=split,\n",
    "        root=\"/data/hanchong/open-source-data/SecondaryDatasets/Butterflies_and_Moths_2019/processed-data\",\n",
    "        extra=\"/data/hanchong/open-source-data/SecondaryDatasets/Butterflies_and_Moths_2019/processed-data\",\n",
    "    )\n",
    "    dataset.dump_extra()"
   ]
  },
  {
   "cell_type": "markdown",
   "metadata": {},
   "source": [
    "## Fruits and Vegetables"
   ]
  },
  {
   "cell_type": "code",
   "execution_count": 2,
   "metadata": {},
   "outputs": [],
   "source": [
    "from dinov2.dinov2.data.datasets import FruitsVegetables\n",
    "\n",
    "for split in FruitsVegetables.Split:\n",
    "    if split == FruitsVegetables.Split.TEST:\n",
    "        continue\n",
    "    dataset = FruitsVegetables(\n",
    "        split=split,\n",
    "        root=\"/data/hanchong/open-source-data/SecondaryDatasets/Fruits_and_Vegetables/processed-data\",\n",
    "        extra=\"/data/hanchong/open-source-data/SecondaryDatasets/Fruits_and_Vegetables/processed-data\",\n",
    "    )\n",
    "    dataset.dump_extra()"
   ]
  },
  {
   "cell_type": "markdown",
   "metadata": {},
   "source": [
    "## Fungi CLEF 2024"
   ]
  },
  {
   "cell_type": "code",
   "execution_count": 3,
   "metadata": {},
   "outputs": [],
   "source": [
    "from dinov2.dinov2.data.datasets import FungiCLEF_2024\n",
    "\n",
    "for split in FungiCLEF_2024.Split:\n",
    "    if split == FungiCLEF_2024.Split.TEST:\n",
    "        continue\n",
    "    dataset = FungiCLEF_2024(\n",
    "        split=split,\n",
    "        root=\"/data/hanchong/open-source-data/SecondaryDatasets/Fungi_CLEF_2024/processed-data\",\n",
    "        extra=\"/data/hanchong/open-source-data/SecondaryDatasets/Fungi_CLEF_2024/processed-data\",\n",
    "    )\n",
    "    dataset.dump_extra()"
   ]
  },
  {
   "cell_type": "markdown",
   "metadata": {},
   "source": [
    "## Fungi CLEF 2025"
   ]
  },
  {
   "cell_type": "code",
   "execution_count": 4,
   "metadata": {},
   "outputs": [],
   "source": [
    "from dinov2.dinov2.data.datasets import FungiCLEF_2025\n",
    "\n",
    "for split in FungiCLEF_2025.Split:\n",
    "    if split == FungiCLEF_2025.Split.TEST:\n",
    "        continue\n",
    "    dataset = FungiCLEF_2025(\n",
    "        split=split,\n",
    "        root=\"/data/hanchong/open-source-data/SecondaryDatasets/Fungi_CLEF_2025/processed-data\",\n",
    "        extra=\"/data/hanchong/open-source-data/SecondaryDatasets/Fungi_CLEF_2025/processed-data\",\n",
    "    )\n",
    "    dataset.dump_extra()"
   ]
  },
  {
   "cell_type": "markdown",
   "metadata": {},
   "source": [
    "## Herbarium 2021"
   ]
  },
  {
   "cell_type": "code",
   "execution_count": 5,
   "metadata": {},
   "outputs": [],
   "source": [
    "from dinov2.dinov2.data.datasets import Herbarium_2021\n",
    "\n",
    "for split in Herbarium_2021.Split:\n",
    "    if split == Herbarium_2021.Split.TEST:\n",
    "        continue\n",
    "    dataset = Herbarium_2021(\n",
    "        split=split,\n",
    "        root=\"/data/hanchong/open-source-data/SecondaryDatasets/Herbarium_2021/processed-data\",\n",
    "        extra=\"/data/hanchong/open-source-data/SecondaryDatasets/Herbarium_2021/processed-data\",\n",
    "    )\n",
    "    dataset.dump_extra()"
   ]
  },
  {
   "cell_type": "markdown",
   "metadata": {},
   "source": [
    "## Herbarium 2022"
   ]
  },
  {
   "cell_type": "code",
   "execution_count": 6,
   "metadata": {},
   "outputs": [],
   "source": [
    "from dinov2.dinov2.data.datasets import Herbarium_2022\n",
    "\n",
    "for split in Herbarium_2022.Split:\n",
    "    if split == Herbarium_2022.Split.TEST:\n",
    "        continue\n",
    "    dataset = Herbarium_2022(\n",
    "        split=split,\n",
    "        root=\"/data/hanchong/open-source-data/SecondaryDatasets/Herbarium_2022/processed-data\",\n",
    "        extra=\"/data/hanchong/open-source-data/SecondaryDatasets/Herbarium_2022/processed-data\",\n",
    "    )\n",
    "    dataset.dump_extra()"
   ]
  },
  {
   "cell_type": "markdown",
   "metadata": {},
   "source": [
    "## Hotel-ID to Combat Human Trafficking 2021"
   ]
  },
  {
   "cell_type": "code",
   "execution_count": 7,
   "metadata": {},
   "outputs": [],
   "source": [
    "from dinov2.dinov2.data.datasets import HotelID_2021\n",
    "\n",
    "for split in HotelID_2021.Split:\n",
    "    if split == HotelID_2021.Split.TEST:\n",
    "        continue\n",
    "    dataset = HotelID_2021(\n",
    "        split=split,\n",
    "        root=\"/data/hanchong/open-source-data/SecondaryDatasets/Hotel-ID_2021/processed-data\",\n",
    "        extra=\"/data/hanchong/open-source-data/SecondaryDatasets/Hotel-ID_2021/processed-data\",\n",
    "    )\n",
    "    dataset.dump_extra()"
   ]
  },
  {
   "cell_type": "markdown",
   "metadata": {},
   "source": [
    "## Hotel-ID to Combat Human Trafficking 2022"
   ]
  },
  {
   "cell_type": "code",
   "execution_count": 8,
   "metadata": {},
   "outputs": [],
   "source": [
    "from dinov2.dinov2.data.datasets import HotelID_2022\n",
    "\n",
    "for split in HotelID_2022.Split:\n",
    "    if split == HotelID_2022.Split.TEST:\n",
    "        continue\n",
    "    dataset = HotelID_2022(\n",
    "        split=split,\n",
    "        root=\"/data/hanchong/open-source-data/SecondaryDatasets/Hotel-ID_2022/processed-data\",\n",
    "        extra=\"/data/hanchong/open-source-data/SecondaryDatasets/Hotel-ID_2022/processed-data\",\n",
    "    )\n",
    "    dataset.dump_extra()"
   ]
  },
  {
   "cell_type": "markdown",
   "metadata": {},
   "source": [
    "## iCassava 2019"
   ]
  },
  {
   "cell_type": "code",
   "execution_count": 9,
   "metadata": {},
   "outputs": [],
   "source": [
    "from dinov2.dinov2.data.datasets import ICassava_2019\n",
    "\n",
    "for split in ICassava_2019.Split:\n",
    "    if split == ICassava_2019.Split.TEST:\n",
    "        continue\n",
    "    dataset = ICassava_2019(\n",
    "        split=split,\n",
    "        root=\"/data/hanchong/open-source-data/SecondaryDatasets/iCassava_2019/processed-data\",\n",
    "        extra=\"/data/hanchong/open-source-data/SecondaryDatasets/iCassava_2019/processed-data\",\n",
    "    )\n",
    "    dataset.dump_extra()"
   ]
  },
  {
   "cell_type": "markdown",
   "metadata": {},
   "source": [
    "## iDesigner 2019"
   ]
  },
  {
   "cell_type": "code",
   "execution_count": 10,
   "metadata": {},
   "outputs": [],
   "source": [
    "from dinov2.dinov2.data.datasets import IDesigner_2019\n",
    "\n",
    "for split in IDesigner_2019.Split:\n",
    "    if split == IDesigner_2019.Split.TEST:\n",
    "        continue\n",
    "    dataset = IDesigner_2019(\n",
    "        split=split,\n",
    "        root=\"/data/hanchong/open-source-data/SecondaryDatasets/iDesigner_2019/processed-data\",\n",
    "        extra=\"/data/hanchong/open-source-data/SecondaryDatasets/iDesigner_2019/processed-data\",\n",
    "    )\n",
    "    dataset.dump_extra()"
   ]
  },
  {
   "cell_type": "markdown",
   "metadata": {},
   "source": [
    "## iFood 2019"
   ]
  },
  {
   "cell_type": "code",
   "execution_count": 11,
   "metadata": {},
   "outputs": [],
   "source": [
    "from dinov2.dinov2.data.datasets import IFood_2019\n",
    "\n",
    "for split in IFood_2019.Split:\n",
    "    if split == IFood_2019.Split.TEST:\n",
    "        continue\n",
    "    dataset = IFood_2019(\n",
    "        split=split,\n",
    "        root=\"/data/hanchong/open-source-data/SecondaryDatasets/iFood_2019/processed-data\",\n",
    "        extra=\"/data/hanchong/open-source-data/SecondaryDatasets/iFood_2019/processed-data\",\n",
    "    )\n",
    "    dataset.dump_extra()"
   ]
  },
  {
   "cell_type": "markdown",
   "metadata": {},
   "source": [
    "## Plant CLEF 2024"
   ]
  },
  {
   "cell_type": "code",
   "execution_count": 12,
   "metadata": {},
   "outputs": [],
   "source": [
    "from dinov2.dinov2.data.datasets import PlantCLEF_2024\n",
    "\n",
    "for split in PlantCLEF_2024.Split:\n",
    "    if split == PlantCLEF_2024.Split.TEST:\n",
    "        continue\n",
    "    dataset = PlantCLEF_2024(\n",
    "        split=split,\n",
    "        root=\"/data/hanchong/open-source-data/SecondaryDatasets/Plant_CLEF_2024/processed-data\",\n",
    "        extra=\"/data/hanchong/open-source-data/SecondaryDatasets/Plant_CLEF_2024/processed-data\",\n",
    "    )\n",
    "    dataset.dump_extra()"
   ]
  },
  {
   "cell_type": "markdown",
   "metadata": {},
   "source": [
    "## Snake CLEF 2024"
   ]
  },
  {
   "cell_type": "code",
   "execution_count": 13,
   "metadata": {},
   "outputs": [],
   "source": [
    "from dinov2.dinov2.data.datasets import SnakeCLEF_2024\n",
    "\n",
    "for split in SnakeCLEF_2024.Split:\n",
    "    if split == SnakeCLEF_2024.Split.TEST:\n",
    "        continue\n",
    "    dataset = SnakeCLEF_2024(\n",
    "        split=split,\n",
    "        root=\"/data/hanchong/open-source-data/SecondaryDatasets/Snake_CLEF_2024/processed-data\",\n",
    "        extra=\"/data/hanchong/open-source-data/SecondaryDatasets/Snake_CLEF_2024/processed-data\",\n",
    "    )\n",
    "    dataset.dump_extra()"
   ]
  },
  {
   "cell_type": "markdown",
   "metadata": {},
   "source": [
    "## Sorghum-100 Cultivars 2022"
   ]
  },
  {
   "cell_type": "code",
   "execution_count": 14,
   "metadata": {},
   "outputs": [],
   "source": [
    "from dinov2.dinov2.data.datasets import Sorghum100Cultivars_2022\n",
    "\n",
    "for split in Sorghum100Cultivars_2022.Split:\n",
    "    if split == Sorghum100Cultivars_2022.Split.TEST:\n",
    "        continue\n",
    "    dataset = Sorghum100Cultivars_2022(\n",
    "        split=split,\n",
    "        root=\"/data/hanchong/open-source-data/SecondaryDatasets/Sorghum-100_Cultivars_2022/processed-data\",\n",
    "        extra=\"/data/hanchong/open-source-data/SecondaryDatasets/Sorghum-100_Cultivars_2022/processed-data\",\n",
    "    )\n",
    "    dataset.dump_extra()"
   ]
  }
 ],
 "metadata": {
  "kernelspec": {
   "display_name": "FGR-PTSSM",
   "language": "python",
   "name": "python3"
  },
  "language_info": {
   "codemirror_mode": {
    "name": "ipython",
    "version": 3
   },
   "file_extension": ".py",
   "mimetype": "text/x-python",
   "name": "python",
   "nbconvert_exporter": "python",
   "pygments_lexer": "ipython3",
   "version": "3.12.10"
  }
 },
 "nbformat": 4,
 "nbformat_minor": 2
}
