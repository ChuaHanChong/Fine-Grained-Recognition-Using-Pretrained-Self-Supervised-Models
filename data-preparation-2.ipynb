{
 "cells": [
  {
   "cell_type": "markdown",
   "metadata": {},
   "source": [
    "# Oxford Flowers"
   ]
  },
  {
   "cell_type": "code",
   "execution_count": 1,
   "metadata": {},
   "outputs": [],
   "source": [
    "from dinov2.dinov2.data.datasets import CUB200_2011\n",
    "\n",
    "for split in CUB200_2011.Split:\n",
    "    if split == CUB200_2011.Split.TEST:\n",
    "        continue\n",
    "    dataset = CUB200_2011(\n",
    "        split=split,\n",
    "        root=\"/data/hanchong/open-source-data/Oxford_Flowers/processed-data\",\n",
    "        extra=\"/data/hanchong/open-source-data/Oxford_Flowers/processed-data\",\n",
    "    )\n",
    "    dataset.dump_extra()"
   ]
  },
  {
   "cell_type": "markdown",
   "metadata": {},
   "source": [
    "# CUB200-2011"
   ]
  },
  {
   "cell_type": "code",
   "execution_count": 2,
   "metadata": {},
   "outputs": [],
   "source": [
    "from dinov2.dinov2.data.datasets import CUB200_2011\n",
    "\n",
    "for split in CUB200_2011.Split:\n",
    "    if split == CUB200_2011.Split.TEST:\n",
    "        continue\n",
    "    dataset = CUB200_2011(\n",
    "        split=split,\n",
    "        root=\"/data/hanchong/open-source-data/CUB200-2011/processed-data\",\n",
    "        extra=\"/data/hanchong/open-source-data/CUB200-2011/processed-data\",\n",
    "    )\n",
    "    dataset.dump_extra()"
   ]
  },
  {
   "cell_type": "markdown",
   "metadata": {},
   "source": [
    "# Stanford Dogs"
   ]
  },
  {
   "cell_type": "code",
   "execution_count": 3,
   "metadata": {},
   "outputs": [],
   "source": [
    "from dinov2.dinov2.data.datasets import StanfordDogs\n",
    "\n",
    "for split in StanfordDogs.Split:\n",
    "    if split == StanfordDogs.Split.TEST:\n",
    "        continue\n",
    "    dataset = StanfordDogs(\n",
    "        split=split,\n",
    "        root=\"/data/hanchong/open-source-data/Stanford_Dogs/processed-data\",\n",
    "        extra=\"/data/hanchong/open-source-data/Stanford_Dogs/processed-data\",\n",
    "    )\n",
    "    dataset.dump_extra()"
   ]
  },
  {
   "cell_type": "markdown",
   "metadata": {},
   "source": [
    "# Standford Cars"
   ]
  },
  {
   "cell_type": "code",
   "execution_count": 4,
   "metadata": {},
   "outputs": [],
   "source": [
    "from dinov2.dinov2.data.datasets import StanfordCars\n",
    "\n",
    "for split in StanfordCars.Split:\n",
    "    if split == StanfordCars.Split.TEST:\n",
    "        continue\n",
    "    dataset = StanfordCars(\n",
    "        split=split,\n",
    "        root=\"/data/hanchong/open-source-data/Stanford_Cars/processed-data\",\n",
    "        extra=\"/data/hanchong/open-source-data/Stanford_Cars/processed-data\",\n",
    "    )\n",
    "    dataset.dump_extra()"
   ]
  },
  {
   "cell_type": "markdown",
   "metadata": {},
   "source": [
    "# FGVC Aircraft"
   ]
  },
  {
   "cell_type": "code",
   "execution_count": 5,
   "metadata": {},
   "outputs": [],
   "source": [
    "from dinov2.dinov2.data.datasets import FGVC_Aircraft\n",
    "\n",
    "for split in FGVC_Aircraft.Split:\n",
    "    if split == FGVC_Aircraft.Split.TEST:\n",
    "        continue\n",
    "    dataset = FGVC_Aircraft(\n",
    "        split=split,\n",
    "        root=\"/data/hanchong/open-source-data/FGVC_Aircraft/processed-data\",\n",
    "        extra=\"/data/hanchong/open-source-data/FGVC_Aircraft/processed-data\",\n",
    "    )\n",
    "    dataset.dump_extra()"
   ]
  },
  {
   "cell_type": "markdown",
   "metadata": {},
   "source": [
    "# Birdsnap"
   ]
  },
  {
   "cell_type": "code",
   "execution_count": 7,
   "metadata": {},
   "outputs": [],
   "source": [
    "from dinov2.dinov2.data.datasets import Birdsnap\n",
    "\n",
    "for split in Birdsnap.Split:\n",
    "    if split == Birdsnap.Split.TEST:\n",
    "        continue\n",
    "    dataset = Birdsnap(\n",
    "        split=split,\n",
    "        root=\"/data/hanchong/open-source-data/Birdsnap/processed-data\",\n",
    "        extra=\"/data/hanchong/open-source-data/Birdsnap/processed-data\",\n",
    "    )\n",
    "    dataset.dump_extra()"
   ]
  },
  {
   "cell_type": "markdown",
   "metadata": {},
   "source": [
    "# NABirds"
   ]
  },
  {
   "cell_type": "code",
   "execution_count": 1,
   "metadata": {},
   "outputs": [],
   "source": [
    "from dinov2.dinov2.data.datasets import NABirds\n",
    "\n",
    "for split in NABirds.Split:\n",
    "    if split == NABirds.Split.TEST:\n",
    "        continue\n",
    "    dataset = NABirds(\n",
    "        split=split,\n",
    "        root=\"/data/hanchong/open-source-data/NABirds/processed-data\",\n",
    "        extra=\"/data/hanchong/open-source-data/NABirds/processed-data\",\n",
    "    )\n",
    "    dataset.dump_extra()"
   ]
  },
  {
   "cell_type": "markdown",
   "metadata": {},
   "source": [
    "# iNat2017"
   ]
  },
  {
   "cell_type": "code",
   "execution_count": 2,
   "metadata": {},
   "outputs": [],
   "source": [
    "from dinov2.dinov2.data.datasets import INat_2017\n",
    "\n",
    "for split in INat_2017.Split:\n",
    "    if split == INat_2017.Split.TEST:\n",
    "        continue\n",
    "    dataset = INat_2017(\n",
    "        split=split,\n",
    "        root=\"/data/hanchong/open-source-data/iNat2017/processed-data\",\n",
    "        extra=\"/data/hanchong/open-source-data/iNat2017/processed-data\",\n",
    "    )\n",
    "    dataset.dump_extra()"
   ]
  },
  {
   "cell_type": "markdown",
   "metadata": {},
   "source": [
    "# iNat2019"
   ]
  },
  {
   "cell_type": "code",
   "execution_count": 1,
   "metadata": {},
   "outputs": [],
   "source": [
    "from dinov2.dinov2.data.datasets import INat_2019\n",
    "\n",
    "for split in INat_2019.Split:\n",
    "    if split == INat_2019.Split.TEST:\n",
    "        continue\n",
    "    dataset = INat_2019(\n",
    "        split=split,\n",
    "        root=\"/data/hanchong/open-source-data/iNat2019/processed-data\",\n",
    "        extra=\"/data/hanchong/open-source-data/iNat2019/processed-data\",\n",
    "    )\n",
    "    dataset.dump_extra()"
   ]
  }
 ],
 "metadata": {
  "kernelspec": {
   "display_name": "FGR",
   "language": "python",
   "name": "python3"
  },
  "language_info": {
   "codemirror_mode": {
    "name": "ipython",
    "version": 3
   },
   "file_extension": ".py",
   "mimetype": "text/x-python",
   "name": "python",
   "nbconvert_exporter": "python",
   "pygments_lexer": "ipython3",
   "version": "3.12.9"
  }
 },
 "nbformat": 4,
 "nbformat_minor": 2
}
