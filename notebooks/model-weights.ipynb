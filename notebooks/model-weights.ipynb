{
 "cells": [
  {
   "cell_type": "code",
   "execution_count": 5,
   "metadata": {},
   "outputs": [],
   "source": [
    "import torch\n",
    "from timm.models.vision_transformer import _convert_dinov2"
   ]
  },
  {
   "cell_type": "code",
   "execution_count": 7,
   "metadata": {},
   "outputs": [],
   "source": [
    "ckpt = torch.load(\"/data/hanchong/open-source-weights/raw-weights/vitb16_reg4_SimDINOv2_ep100.pth\", map_location=\"cpu\")\n",
    "ckpt = ckpt[\"teacher\"]\n",
    "ckpt = {k.replace(\"backbone.\", \"\"): v for k, v in ckpt.items() if \"dino_head\" not in k}\n",
    "\n",
    "ckpt_2 = {}\n",
    "for k, v in ckpt.items():\n",
    "    if \"blocks\" in k:\n",
    "        parts = k.split(\".\")\n",
    "        parts.pop(1)\n",
    "        k = \".\".join(parts)\n",
    "    ckpt_2[k] = v\n",
    "ckpt_2 = _convert_dinov2(ckpt_2, _)\n",
    "\n",
    "torch.save(ckpt_2, \"/data/hanchong/open-source-weights/processed-weights/vitb16_reg4_SimDINOv2_ep100.pth\")"
   ]
  },
  {
   "cell_type": "code",
   "execution_count": 12,
   "metadata": {},
   "outputs": [],
   "source": [
    "ckpt = torch.load(\"/data/hanchong/open-source-weights/raw-weights/vitl16_reg4_SimDINOv2_100ep.pth\", map_location=\"cpu\")\n",
    "ckpt = ckpt[\"teacher\"]\n",
    "ckpt = {k.replace(\"backbone.\", \"\"): v for k, v in ckpt.items() if \"dino_head\" not in k}\n",
    "\n",
    "ckpt_2 = {}\n",
    "for k, v in ckpt.items():\n",
    "    if \"blocks\" in k:\n",
    "        parts = k.split(\".\")\n",
    "        parts.pop(1)\n",
    "        k = \".\".join(parts)\n",
    "    ckpt_2[k] = v\n",
    "ckpt_2 = _convert_dinov2(ckpt_2, _)\n",
    "\n",
    "torch.save(ckpt_2, \"/data/hanchong/open-source-weights/processed-weights/vitl16_reg4_SimDINOv2_100ep.pth\")"
   ]
  }
 ],
 "metadata": {
  "kernelspec": {
   "display_name": "FGR",
   "language": "python",
   "name": "python3"
  },
  "language_info": {
   "codemirror_mode": {
    "name": "ipython",
    "version": 3
   },
   "file_extension": ".py",
   "mimetype": "text/x-python",
   "name": "python",
   "nbconvert_exporter": "python",
   "pygments_lexer": "ipython3",
   "version": "3.12.9"
  }
 },
 "nbformat": 4,
 "nbformat_minor": 2
}
